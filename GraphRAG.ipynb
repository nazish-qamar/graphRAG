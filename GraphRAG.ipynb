{
  "nbformat": 4,
  "nbformat_minor": 0,
  "metadata": {
    "colab": {
      "provenance": [],
      "authorship_tag": "ABX9TyNOe1QOICt+bNwpTy8jrXCi",
      "include_colab_link": true
    },
    "kernelspec": {
      "name": "python3",
      "display_name": "Python 3"
    },
    "language_info": {
      "name": "python"
    },
    "widgets": {
      "application/vnd.jupyter.widget-state+json": {
        "96fbe0b933544a8db9b5c6eacb4d9adb": {
          "model_module": "yfiles-jupyter-graphs",
          "model_name": "GraphModel",
          "model_module_version": "^1.8.1",
          "state": {
            "_context_pane_mapping": [
              {
                "id": "Neighborhood",
                "title": "Neighborhood"
              },
              {
                "id": "Data",
                "title": "Data"
              },
              {
                "id": "Search",
                "title": "Search"
              },
              {
                "id": "About",
                "title": "About"
              }
            ],
            "_data_importer": "neo4j",
            "_directed": true,
            "_dom_classes": [],
            "_edges": [
              {
                "id": 1152922604118474800,
                "start": 1,
                "end": 2,
                "properties": {
                  "label": "KEY_ROLE"
                },
                "label": "KEY_ROLE",
                "color": "#2196F3",
                "thickness_factor": 1,
                "directed": true
              },
              {
                "id": 1155174403932160000,
                "start": 1,
                "end": 3,
                "properties": {
                  "label": "KEY_ROLE"
                },
                "label": "KEY_ROLE",
                "color": "#2196F3",
                "thickness_factor": 1,
                "directed": true
              },
              {
                "id": 1152923703630102500,
                "start": 1,
                "end": 4,
                "properties": {
                  "label": "OWNERSHIP"
                },
                "label": "OWNERSHIP",
                "color": "#4CAF50",
                "thickness_factor": 1,
                "directed": true
              },
              {
                "id": 1152925902653358000,
                "start": 1,
                "end": 6,
                "properties": {
                  "label": "FOUNDER"
                },
                "label": "FOUNDER",
                "color": "#F44336",
                "thickness_factor": 1,
                "directed": true
              },
              {
                "id": 1155177702467043300,
                "start": 1,
                "end": 7,
                "properties": {
                  "label": "FOUNDER"
                },
                "label": "FOUNDER",
                "color": "#F44336",
                "thickness_factor": 1,
                "directed": true
              },
              {
                "id": 1157429502280728600,
                "start": 1,
                "end": 8,
                "properties": {
                  "label": "FOUNDER"
                },
                "label": "FOUNDER",
                "color": "#F44336",
                "thickness_factor": 1,
                "directed": true
              },
              {
                "id": 1159681302094413800,
                "start": 1,
                "end": 9,
                "properties": {
                  "label": "FOUNDER"
                },
                "label": "FOUNDER",
                "color": "#F44336",
                "thickness_factor": 1,
                "directed": true
              },
              {
                "id": 1152927002164985900,
                "start": 1,
                "end": 29,
                "properties": {
                  "label": "WEALTH_ESTIMATE_DATE"
                },
                "label": "WEALTH_ESTIMATE_DATE",
                "color": "#607D8B",
                "thickness_factor": 1,
                "directed": true
              },
              {
                "id": 1152928101676613600,
                "start": 1,
                "end": 30,
                "properties": {
                  "label": "NET_WORTH"
                },
                "label": "NET_WORTH",
                "color": "#673AB7",
                "thickness_factor": 1,
                "directed": true
              },
              {
                "id": 1152929201188241400,
                "start": 1,
                "end": 12,
                "properties": {
                  "label": "BIRTH_PLACE"
                },
                "label": "BIRTH_PLACE",
                "color": "#CDDC39",
                "thickness_factor": 1,
                "directed": true
              },
              {
                "id": 1152930300699869200,
                "start": 1,
                "end": 10,
                "properties": {
                  "label": "PARENT"
                },
                "label": "PARENT",
                "color": "#9E9E9E",
                "thickness_factor": 1,
                "directed": true
              },
              {
                "id": 1155182100513554400,
                "start": 1,
                "end": 11,
                "properties": {
                  "label": "PARENT"
                },
                "label": "PARENT",
                "color": "#9E9E9E",
                "thickness_factor": 1,
                "directed": true
              },
              {
                "id": 1152931400211497000,
                "start": 1,
                "end": 13,
                "properties": {
                  "label": "ATTENDED"
                },
                "label": "ATTENDED",
                "color": "#9C27B0",
                "thickness_factor": 1,
                "directed": true
              },
              {
                "id": 1155183200025182200,
                "start": 1,
                "end": 15,
                "properties": {
                  "label": "ATTENDED"
                },
                "label": "ATTENDED",
                "color": "#9C27B0",
                "thickness_factor": 1,
                "directed": true
              },
              {
                "id": 1157434999838867500,
                "start": 1,
                "end": 16,
                "properties": {
                  "label": "ATTENDED"
                },
                "label": "ATTENDED",
                "color": "#9C27B0",
                "thickness_factor": 1,
                "directed": true
              },
              {
                "id": 1159686799652552700,
                "start": 1,
                "end": 17,
                "properties": {
                  "label": "ATTENDED"
                },
                "label": "ATTENDED",
                "color": "#9C27B0",
                "thickness_factor": 1,
                "directed": true
              },
              {
                "id": 1152932499723124700,
                "start": 1,
                "end": 14,
                "properties": {
                  "label": "CITIZENSHIP"
                },
                "label": "CITIZENSHIP",
                "color": "#2196F3",
                "thickness_factor": 1,
                "directed": true
              },
              {
                "id": 1152933599234752500,
                "start": 1,
                "end": 18,
                "properties": {
                  "label": "CO-FOUNDER"
                },
                "label": "CO-FOUNDER",
                "color": "#4CAF50",
                "thickness_factor": 1,
                "directed": true
              },
              {
                "id": 1155185399048437800,
                "start": 1,
                "end": 19,
                "properties": {
                  "label": "CO-FOUNDER"
                },
                "label": "CO-FOUNDER",
                "color": "#4CAF50",
                "thickness_factor": 1,
                "directed": true
              },
              {
                "id": 1157437198862123000,
                "start": 1,
                "end": 21,
                "properties": {
                  "label": "CO-FOUNDER"
                },
                "label": "CO-FOUNDER",
                "color": "#4CAF50",
                "thickness_factor": 1,
                "directed": true
              },
              {
                "id": 1152937997281263600,
                "start": 1,
                "end": 32,
                "properties": {
                  "label": "FOUNDED"
                },
                "label": "FOUNDED",
                "color": "#F44336",
                "thickness_factor": 1,
                "directed": true
              },
              {
                "id": 1152939096792891400,
                "start": 1,
                "end": 33,
                "properties": {
                  "label": "INVESTED"
                },
                "label": "INVESTED",
                "color": "#607D8B",
                "thickness_factor": 1,
                "directed": true
              },
              {
                "id": 1152940196304519200,
                "start": 1,
                "end": 34,
                "properties": {
                  "label": "HELPED_CREATE"
                },
                "label": "HELPED_CREATE",
                "color": "#673AB7",
                "thickness_factor": 1,
                "directed": true
              },
              {
                "id": 1152941295816147000,
                "start": 1,
                "end": 35,
                "properties": {
                  "label": "BECAME_CEO"
                },
                "label": "BECAME_CEO",
                "color": "#CDDC39",
                "thickness_factor": 1,
                "directed": true
              },
              {
                "id": 1152942395327774700,
                "start": 1,
                "end": 36,
                "properties": {
                  "label": "PROPOSED"
                },
                "label": "PROPOSED",
                "color": "#9E9E9E",
                "thickness_factor": 1,
                "directed": true
              },
              {
                "id": 1152943494839402500,
                "start": 1,
                "end": 37,
                "properties": {
                  "label": "CO-FOUNDED"
                },
                "label": "CO-FOUNDED",
                "color": "#9C27B0",
                "thickness_factor": 1,
                "directed": true
              },
              {
                "id": 1155195294653087700,
                "start": 1,
                "end": 38,
                "properties": {
                  "label": "CO-FOUNDED"
                },
                "label": "CO-FOUNDED",
                "color": "#9C27B0",
                "thickness_factor": 1,
                "directed": true
              },
              {
                "id": 1152944594351030300,
                "start": 1,
                "end": 39,
                "properties": {
                  "label": "SUED"
                },
                "label": "SUED",
                "color": "#2196F3",
                "thickness_factor": 1,
                "directed": true
              },
              {
                "id": 1152945693862658000,
                "start": 1,
                "end": 28,
                "properties": {
                  "label": "SUED_BY"
                },
                "label": "SUED_BY",
                "color": "#4CAF50",
                "thickness_factor": 1,
                "directed": true
              },
              {
                "id": 6917574107617821000,
                "start": 1,
                "end": 74,
                "properties": {
                  "label": "NAMED_AFTER"
                },
                "label": "NAMED_AFTER",
                "color": "#F44336",
                "thickness_factor": 1,
                "directed": true
              },
              {
                "id": 1152946793374285800,
                "start": 3,
                "end": 25,
                "properties": {
                  "label": "ACQUIRED"
                },
                "label": "ACQUIRED",
                "color": "#607D8B",
                "thickness_factor": 1,
                "directed": true
              },
              {
                "id": 1152924803141730300,
                "start": 4,
                "end": 5,
                "properties": {
                  "label": "OPERATES"
                },
                "label": "OPERATES",
                "color": "#673AB7",
                "thickness_factor": 1,
                "directed": true
              },
              {
                "id": 1152930300699869200,
                "start": 11,
                "end": 1,
                "properties": {
                  "label": "PARENT"
                },
                "label": "PARENT",
                "color": "#9E9E9E",
                "thickness_factor": 1,
                "directed": true
              },
              {
                "id": 1155183200025182200,
                "start": 11,
                "end": 13,
                "properties": {
                  "label": "ATTENDED"
                },
                "label": "ATTENDED",
                "color": "#9C27B0",
                "thickness_factor": 1,
                "directed": true
              },
              {
                "id": 1152931400211497000,
                "start": 11,
                "end": 73,
                "properties": {
                  "label": "ATTENDED"
                },
                "label": "ATTENDED",
                "color": "#9C27B0",
                "thickness_factor": 1,
                "directed": true
              },
              {
                "id": 1152952290932424700,
                "start": 11,
                "end": 71,
                "properties": {
                  "label": "MOTHER"
                },
                "label": "MOTHER",
                "color": "#CDDC39",
                "thickness_factor": 1,
                "directed": true
              },
              {
                "id": 1152953390444052500,
                "start": 11,
                "end": 72,
                "properties": {
                  "label": "FATHER"
                },
                "label": "FATHER",
                "color": "#9E9E9E",
                "thickness_factor": 1,
                "directed": true
              },
              {
                "id": 1152955589467308000,
                "start": 11,
                "end": 70,
                "properties": {
                  "label": "BORN_IN"
                },
                "label": "BORN_IN",
                "color": "#9C27B0",
                "thickness_factor": 1,
                "directed": true
              },
              {
                "id": 1152965485071958000,
                "start": 11,
                "end": 54,
                "properties": {
                  "label": "MARRIED"
                },
                "label": "MARRIED",
                "color": "#2196F3",
                "thickness_factor": 1,
                "directed": true
              },
              {
                "id": 1152967684095213600,
                "start": 11,
                "end": 12,
                "properties": {
                  "label": "LIVED_IN"
                },
                "label": "LIVED_IN",
                "color": "#4CAF50",
                "thickness_factor": 1,
                "directed": true
              },
              {
                "id": 1152956688978935800,
                "start": 12,
                "end": 49,
                "properties": {
                  "label": "LOCATED_IN"
                },
                "label": "LOCATED_IN",
                "color": "#F44336",
                "thickness_factor": 1,
                "directed": true
              },
              {
                "id": 1161940798489493500,
                "start": 18,
                "end": 19,
                "properties": {
                  "label": "CO-FOUNDER"
                },
                "label": "CO-FOUNDER",
                "color": "#4CAF50",
                "thickness_factor": 1,
                "directed": true
              },
              {
                "id": 1159688998675808300,
                "start": 18,
                "end": 53,
                "properties": {
                  "label": "CO-FOUNDER"
                },
                "label": "CO-FOUNDER",
                "color": "#4CAF50",
                "thickness_factor": 1,
                "directed": true
              },
              {
                "id": 1155185399048437800,
                "start": 18,
                "end": 64,
                "properties": {
                  "label": "CO-FOUNDER"
                },
                "label": "CO-FOUNDER",
                "color": "#4CAF50",
                "thickness_factor": 1,
                "directed": true
              },
              {
                "id": 1157437198862123000,
                "start": 18,
                "end": 65,
                "properties": {
                  "label": "CO-FOUNDER"
                },
                "label": "CO-FOUNDER",
                "color": "#4CAF50",
                "thickness_factor": 1,
                "directed": true
              },
              {
                "id": 1152934698746380300,
                "start": 18,
                "end": 20,
                "properties": {
                  "label": "ACQUIRED_BY"
                },
                "label": "ACQUIRED_BY",
                "color": "#607D8B",
                "thickness_factor": 1,
                "directed": true
              },
              {
                "id": 1152963286048702500,
                "start": 18,
                "end": 63,
                "properties": {
                  "label": "OWNER"
                },
                "label": "OWNER",
                "color": "#673AB7",
                "thickness_factor": 1,
                "directed": true
              },
              {
                "id": 1155216185374015500,
                "start": 18,
                "end": 2,
                "properties": {
                  "label": "BOARD_MEMBER"
                },
                "label": "BOARD_MEMBER",
                "color": "#CDDC39",
                "thickness_factor": 1,
                "directed": true
              },
              {
                "id": 1152964385560330200,
                "start": 18,
                "end": 66,
                "properties": {
                  "label": "BOARD_MEMBER"
                },
                "label": "BOARD_MEMBER",
                "color": "#CDDC39",
                "thickness_factor": 1,
                "directed": true
              },
              {
                "id": 1157467985187700700,
                "start": 18,
                "end": 67,
                "properties": {
                  "label": "BOARD_MEMBER"
                },
                "label": "BOARD_MEMBER",
                "color": "#CDDC39",
                "thickness_factor": 1,
                "directed": true
              }
            ],
            "_graph_layout": {},
            "_highlight": [],
            "_license": {},
            "_model_module": "yfiles-jupyter-graphs",
            "_model_module_version": "^1.8.1",
            "_model_name": "GraphModel",
            "_neighborhood": {},
            "_nodes": [
              {
                "id": 1,
                "properties": {
                  "id": "Elon Reeve Musk",
                  "label": "__Entity__:Person"
                },
                "color": "#2196F3",
                "styles": {},
                "label": "Elon Reeve Musk",
                "scale_factor": 1,
                "type": "#2196F3",
                "size": [
                  55,
                  55
                ],
                "position": [
                  0,
                  0
                ]
              },
              {
                "id": 2,
                "properties": {
                  "id": "Spacex",
                  "label": "__Entity__:Organization"
                },
                "color": "#4CAF50",
                "styles": {},
                "label": "Spacex",
                "scale_factor": 1,
                "type": "#4CAF50",
                "size": [
                  55,
                  55
                ],
                "position": [
                  0,
                  0
                ]
              },
              {
                "id": 3,
                "properties": {
                  "id": "Tesla, Inc.",
                  "label": "__Entity__:Organization"
                },
                "color": "#4CAF50",
                "styles": {},
                "label": "Tesla, Inc.",
                "scale_factor": 1,
                "type": "#4CAF50",
                "size": [
                  55,
                  55
                ],
                "position": [
                  0,
                  0
                ]
              },
              {
                "id": 4,
                "properties": {
                  "id": "X Corp.",
                  "label": "__Entity__:Organization"
                },
                "color": "#4CAF50",
                "styles": {},
                "label": "X Corp.",
                "scale_factor": 1,
                "type": "#4CAF50",
                "size": [
                  55,
                  55
                ],
                "position": [
                  0,
                  0
                ]
              },
              {
                "id": 6,
                "properties": {
                  "id": "The Boring Company",
                  "label": "__Entity__:Organization"
                },
                "color": "#4CAF50",
                "styles": {},
                "label": "The Boring Company",
                "scale_factor": 1,
                "type": "#4CAF50",
                "size": [
                  55,
                  55
                ],
                "position": [
                  0,
                  0
                ]
              },
              {
                "id": 7,
                "properties": {
                  "id": "Xai",
                  "label": "__Entity__:Organization"
                },
                "color": "#4CAF50",
                "styles": {},
                "label": "Xai",
                "scale_factor": 1,
                "type": "#4CAF50",
                "size": [
                  55,
                  55
                ],
                "position": [
                  0,
                  0
                ]
              },
              {
                "id": 8,
                "properties": {
                  "id": "Neuralink",
                  "label": "__Entity__:Organization"
                },
                "color": "#4CAF50",
                "styles": {},
                "label": "Neuralink",
                "scale_factor": 1,
                "type": "#4CAF50",
                "size": [
                  55,
                  55
                ],
                "position": [
                  0,
                  0
                ]
              },
              {
                "id": 9,
                "properties": {
                  "id": "Openai",
                  "label": "__Entity__:Organization"
                },
                "color": "#4CAF50",
                "styles": {},
                "label": "Openai",
                "scale_factor": 1,
                "type": "#4CAF50",
                "size": [
                  55,
                  55
                ],
                "position": [
                  0,
                  0
                ]
              },
              {
                "id": 29,
                "properties": {
                  "id": "August 2024",
                  "label": "__Entity__:Date"
                },
                "color": "#F44336",
                "styles": {},
                "label": "August 2024",
                "scale_factor": 1,
                "type": "#F44336",
                "size": [
                  55,
                  55
                ],
                "position": [
                  0,
                  0
                ]
              },
              {
                "id": 30,
                "properties": {
                  "id": "Us$247 Billion",
                  "label": "__Entity__:Amount"
                },
                "color": "#607D8B",
                "styles": {},
                "label": "Us$247 Billion",
                "scale_factor": 1,
                "type": "#607D8B",
                "size": [
                  55,
                  55
                ],
                "position": [
                  0,
                  0
                ]
              },
              {
                "id": 12,
                "properties": {
                  "id": "Pretoria",
                  "label": "Place:__Entity__"
                },
                "color": "#673AB7",
                "styles": {},
                "label": "Pretoria",
                "scale_factor": 1,
                "type": "#673AB7",
                "size": [
                  55,
                  55
                ],
                "position": [
                  0,
                  0
                ]
              },
              {
                "id": 10,
                "properties": {
                  "id": "Maye Haldeman",
                  "label": "__Entity__:Person"
                },
                "color": "#2196F3",
                "styles": {},
                "label": "Maye Haldeman",
                "scale_factor": 1,
                "type": "#2196F3",
                "size": [
                  55,
                  55
                ],
                "position": [
                  0,
                  0
                ]
              },
              {
                "id": 11,
                "properties": {
                  "id": "Errol Musk",
                  "label": "__Entity__:Person"
                },
                "color": "#2196F3",
                "styles": {},
                "label": "Errol Musk",
                "scale_factor": 1,
                "type": "#2196F3",
                "size": [
                  55,
                  55
                ],
                "position": [
                  0,
                  0
                ]
              },
              {
                "id": 13,
                "properties": {
                  "id": "University Of Pretoria",
                  "label": "__Entity__:Organization"
                },
                "color": "#4CAF50",
                "styles": {},
                "label": "University Of Pretoria",
                "scale_factor": 1,
                "type": "#4CAF50",
                "size": [
                  55,
                  55
                ],
                "position": [
                  0,
                  0
                ]
              },
              {
                "id": 15,
                "properties": {
                  "id": "Queen'S University At Kingston",
                  "label": "__Entity__:Organization"
                },
                "color": "#4CAF50",
                "styles": {},
                "label": "Queen'S University At Kingston",
                "scale_factor": 1,
                "type": "#4CAF50",
                "size": [
                  55,
                  55
                ],
                "position": [
                  0,
                  0
                ]
              },
              {
                "id": 16,
                "properties": {
                  "id": "University Of Pennsylvania",
                  "label": "__Entity__:Organization"
                },
                "color": "#4CAF50",
                "styles": {},
                "label": "University Of Pennsylvania",
                "scale_factor": 1,
                "type": "#4CAF50",
                "size": [
                  55,
                  55
                ],
                "position": [
                  0,
                  0
                ]
              },
              {
                "id": 17,
                "properties": {
                  "id": "Stanford University",
                  "label": "__Entity__:Organization"
                },
                "color": "#4CAF50",
                "styles": {},
                "label": "Stanford University",
                "scale_factor": 1,
                "type": "#4CAF50",
                "size": [
                  55,
                  55
                ],
                "position": [
                  0,
                  0
                ]
              },
              {
                "id": 14,
                "properties": {
                  "id": "Canada",
                  "label": "Place:__Entity__:Country"
                },
                "color": "#CDDC39",
                "styles": {},
                "label": "Canada",
                "scale_factor": 1,
                "type": "#CDDC39",
                "size": [
                  55,
                  55
                ],
                "position": [
                  0,
                  0
                ]
              },
              {
                "id": 18,
                "properties": {
                  "id": "Kimbal Musk",
                  "label": "__Entity__:Person"
                },
                "color": "#2196F3",
                "styles": {},
                "label": "Kimbal Musk",
                "scale_factor": 1,
                "type": "#2196F3",
                "size": [
                  55,
                  55
                ],
                "position": [
                  0,
                  0
                ]
              },
              {
                "id": 19,
                "properties": {
                  "id": "Zip2",
                  "label": "__Entity__:Organization"
                },
                "color": "#4CAF50",
                "styles": {},
                "label": "Zip2",
                "scale_factor": 1,
                "type": "#4CAF50",
                "size": [
                  55,
                  55
                ],
                "position": [
                  0,
                  0
                ]
              },
              {
                "id": 21,
                "properties": {
                  "id": "X.Com",
                  "label": "__Entity__:Organization"
                },
                "color": "#4CAF50",
                "styles": {},
                "label": "X.Com",
                "scale_factor": 1,
                "type": "#4CAF50",
                "size": [
                  55,
                  55
                ],
                "position": [
                  0,
                  0
                ]
              },
              {
                "id": 32,
                "properties": {
                  "id": "2002",
                  "label": "__Entity__:Date"
                },
                "color": "#F44336",
                "styles": {},
                "label": "2002",
                "scale_factor": 1,
                "type": "#F44336",
                "size": [
                  55,
                  55
                ],
                "position": [
                  0,
                  0
                ]
              },
              {
                "id": 33,
                "properties": {
                  "id": "2004",
                  "label": "__Entity__:Date"
                },
                "color": "#F44336",
                "styles": {},
                "label": "2004",
                "scale_factor": 1,
                "type": "#F44336",
                "size": [
                  55,
                  55
                ],
                "position": [
                  0,
                  0
                ]
              },
              {
                "id": 34,
                "properties": {
                  "id": "2006",
                  "label": "__Entity__:Date"
                },
                "color": "#F44336",
                "styles": {},
                "label": "2006",
                "scale_factor": 1,
                "type": "#F44336",
                "size": [
                  55,
                  55
                ],
                "position": [
                  0,
                  0
                ]
              },
              {
                "id": 35,
                "properties": {
                  "id": "2008",
                  "label": "__Entity__:Date"
                },
                "color": "#F44336",
                "styles": {},
                "label": "2008",
                "scale_factor": 1,
                "type": "#F44336",
                "size": [
                  55,
                  55
                ],
                "position": [
                  0,
                  0
                ]
              },
              {
                "id": 36,
                "properties": {
                  "id": "2013",
                  "label": "__Entity__:Date"
                },
                "color": "#F44336",
                "styles": {},
                "label": "2013",
                "scale_factor": 1,
                "type": "#F44336",
                "size": [
                  55,
                  55
                ],
                "position": [
                  0,
                  0
                ]
              },
              {
                "id": 37,
                "properties": {
                  "id": "2015",
                  "label": "__Entity__:Date"
                },
                "color": "#F44336",
                "styles": {},
                "label": "2015",
                "scale_factor": 1,
                "type": "#F44336",
                "size": [
                  55,
                  55
                ],
                "position": [
                  0,
                  0
                ]
              },
              {
                "id": 38,
                "properties": {
                  "id": "2016",
                  "label": "__Entity__:Date"
                },
                "color": "#F44336",
                "styles": {},
                "label": "2016",
                "scale_factor": 1,
                "type": "#F44336",
                "size": [
                  55,
                  55
                ],
                "position": [
                  0,
                  0
                ]
              },
              {
                "id": 39,
                "properties": {
                  "id": "2018",
                  "label": "__Entity__:Date"
                },
                "color": "#F44336",
                "styles": {},
                "label": "2018",
                "scale_factor": 1,
                "type": "#F44336",
                "size": [
                  55,
                  55
                ],
                "position": [
                  0,
                  0
                ]
              },
              {
                "id": 28,
                "properties": {
                  "id": "U.S. Securities And Exchange Commission",
                  "label": "__Entity__:Organization"
                },
                "color": "#4CAF50",
                "styles": {},
                "label": "U.S. Securities And Exchange Commission",
                "scale_factor": 1,
                "type": "#4CAF50",
                "size": [
                  55,
                  55
                ],
                "position": [
                  0,
                  0
                ]
              },
              {
                "id": 74,
                "properties": {
                  "id": "J. Elon Haldeman",
                  "label": "__Entity__:Person"
                },
                "color": "#2196F3",
                "styles": {},
                "label": "J. Elon Haldeman",
                "scale_factor": 1,
                "type": "#2196F3",
                "size": [
                  55,
                  55
                ],
                "position": [
                  0,
                  0
                ]
              },
              {
                "id": 25,
                "properties": {
                  "id": "Solarcity",
                  "label": "__Entity__:Organization"
                },
                "color": "#4CAF50",
                "styles": {},
                "label": "Solarcity",
                "scale_factor": 1,
                "type": "#4CAF50",
                "size": [
                  55,
                  55
                ],
                "position": [
                  0,
                  0
                ]
              },
              {
                "id": 5,
                "properties": {
                  "id": "X",
                  "label": "__Entity__:Service:Organization"
                },
                "color": "#9E9E9E",
                "styles": {},
                "label": "X",
                "scale_factor": 1,
                "type": "#9E9E9E",
                "size": [
                  55,
                  55
                ],
                "position": [
                  0,
                  0
                ]
              },
              {
                "id": 73,
                "properties": {
                  "id": "Clapham High School",
                  "label": "__Entity__:Organization"
                },
                "color": "#4CAF50",
                "styles": {},
                "label": "Clapham High School",
                "scale_factor": 1,
                "type": "#4CAF50",
                "size": [
                  55,
                  55
                ],
                "position": [
                  0,
                  0
                ]
              },
              {
                "id": 71,
                "properties": {
                  "id": "Cora Amelia",
                  "label": "__Entity__:Person"
                },
                "color": "#2196F3",
                "styles": {},
                "label": "Cora Amelia",
                "scale_factor": 1,
                "type": "#2196F3",
                "size": [
                  55,
                  55
                ],
                "position": [
                  0,
                  0
                ]
              },
              {
                "id": 72,
                "properties": {
                  "id": "Walter Henry James Musk",
                  "label": "__Entity__:Person"
                },
                "color": "#2196F3",
                "styles": {},
                "label": "Walter Henry James Musk",
                "scale_factor": 1,
                "type": "#2196F3",
                "size": [
                  55,
                  55
                ],
                "position": [
                  0,
                  0
                ]
              },
              {
                "id": 70,
                "properties": {
                  "id": "South Africa",
                  "label": "Place:__Entity__"
                },
                "color": "#673AB7",
                "styles": {},
                "label": "South Africa",
                "scale_factor": 1,
                "type": "#673AB7",
                "size": [
                  55,
                  55
                ],
                "position": [
                  0,
                  0
                ]
              },
              {
                "id": 54,
                "properties": {
                  "id": "Maye Musk",
                  "label": "__Entity__:Person"
                },
                "color": "#2196F3",
                "styles": {},
                "label": "Maye Musk",
                "scale_factor": 1,
                "type": "#2196F3",
                "size": [
                  55,
                  55
                ],
                "position": [
                  0,
                  0
                ]
              },
              {
                "id": 49,
                "properties": {
                  "id": "South_Africa",
                  "label": "Country:__Entity__"
                },
                "color": "#9C27B0",
                "styles": {},
                "label": "South_Africa",
                "scale_factor": 1,
                "type": "#9C27B0",
                "size": [
                  55,
                  55
                ],
                "position": [
                  0,
                  0
                ]
              },
              {
                "id": 53,
                "properties": {
                  "id": "Elon Musk",
                  "label": "__Entity__:Person"
                },
                "color": "#2196F3",
                "styles": {},
                "label": "Elon Musk",
                "scale_factor": 1,
                "type": "#2196F3",
                "size": [
                  55,
                  55
                ],
                "position": [
                  0,
                  0
                ]
              },
              {
                "id": 64,
                "properties": {
                  "id": "Big Green",
                  "label": "__Entity__:Organization"
                },
                "color": "#4CAF50",
                "styles": {},
                "label": "Big Green",
                "scale_factor": 1,
                "type": "#4CAF50",
                "size": [
                  55,
                  55
                ],
                "position": [
                  0,
                  0
                ]
              },
              {
                "id": 65,
                "properties": {
                  "id": "Square Roots",
                  "label": "__Entity__:Organization"
                },
                "color": "#4CAF50",
                "styles": {},
                "label": "Square Roots",
                "scale_factor": 1,
                "type": "#4CAF50",
                "size": [
                  55,
                  55
                ],
                "position": [
                  0,
                  0
                ]
              },
              {
                "id": 20,
                "properties": {
                  "id": "Compaq",
                  "label": "__Entity__:Organization"
                },
                "color": "#4CAF50",
                "styles": {},
                "label": "Compaq",
                "scale_factor": 1,
                "type": "#4CAF50",
                "size": [
                  55,
                  55
                ],
                "position": [
                  0,
                  0
                ]
              },
              {
                "id": 63,
                "properties": {
                  "id": "The Kitchen Restaurant Group",
                  "label": "__Entity__:Organization"
                },
                "color": "#4CAF50",
                "styles": {},
                "label": "The Kitchen Restaurant Group",
                "scale_factor": 1,
                "type": "#4CAF50",
                "size": [
                  55,
                  55
                ],
                "position": [
                  0,
                  0
                ]
              },
              {
                "id": 66,
                "properties": {
                  "id": "Tesla Inc.",
                  "label": "__Entity__:Organization"
                },
                "color": "#4CAF50",
                "styles": {},
                "label": "Tesla Inc.",
                "scale_factor": 1,
                "type": "#4CAF50",
                "size": [
                  55,
                  55
                ],
                "position": [
                  0,
                  0
                ]
              },
              {
                "id": 67,
                "properties": {
                  "id": "Chipotle Mexican Grill",
                  "label": "__Entity__:Organization"
                },
                "color": "#4CAF50",
                "styles": {},
                "label": "Chipotle Mexican Grill",
                "scale_factor": 1,
                "type": "#4CAF50",
                "size": [
                  55,
                  55
                ],
                "position": [
                  0,
                  0
                ]
              }
            ],
            "_overview": {
              "enabled": null,
              "overview_set": false
            },
            "_selected_graph": [
              [
                {
                  "id": 2,
                  "properties": {
                    "id": "Spacex",
                    "label": "__Entity__:Organization"
                  }
                }
              ],
              []
            ],
            "_sidebar": {
              "enabled": false,
              "start_with": null
            },
            "_view_count": null,
            "_view_module": "yfiles-jupyter-graphs",
            "_view_module_version": "^1.8.1",
            "_view_name": "GraphView",
            "layout": "IPY_MODEL_ca0caf2f2aa643fa98d2d835e9cc5c33"
          }
        },
        "ca0caf2f2aa643fa98d2d835e9cc5c33": {
          "model_module": "@jupyter-widgets/base",
          "model_name": "LayoutModel",
          "model_module_version": "1.2.0",
          "state": {
            "_model_module": "@jupyter-widgets/base",
            "_model_module_version": "1.2.0",
            "_model_name": "LayoutModel",
            "_view_count": null,
            "_view_module": "@jupyter-widgets/base",
            "_view_module_version": "1.2.0",
            "_view_name": "LayoutView",
            "align_content": null,
            "align_items": null,
            "align_self": null,
            "border": null,
            "bottom": null,
            "display": null,
            "flex": null,
            "flex_flow": null,
            "grid_area": null,
            "grid_auto_columns": null,
            "grid_auto_flow": null,
            "grid_auto_rows": null,
            "grid_column": null,
            "grid_gap": null,
            "grid_row": null,
            "grid_template_areas": null,
            "grid_template_columns": null,
            "grid_template_rows": null,
            "height": "800px",
            "justify_content": null,
            "justify_items": null,
            "left": null,
            "margin": null,
            "max_height": null,
            "max_width": null,
            "min_height": null,
            "min_width": null,
            "object_fit": null,
            "object_position": null,
            "order": null,
            "overflow": null,
            "overflow_x": null,
            "overflow_y": null,
            "padding": null,
            "right": null,
            "top": null,
            "visibility": null,
            "width": "100%"
          }
        },
        "53ce30d86a6b447e9ca2c1ed55cb5cb2": {
          "model_module": "@jupyter-widgets/base",
          "model_name": "LayoutModel",
          "model_module_version": "1.2.0",
          "state": {
            "_model_module": "@jupyter-widgets/base",
            "_model_module_version": "1.2.0",
            "_model_name": "LayoutModel",
            "_view_count": null,
            "_view_module": "@jupyter-widgets/base",
            "_view_module_version": "1.2.0",
            "_view_name": "LayoutView",
            "align_content": null,
            "align_items": null,
            "align_self": null,
            "border": null,
            "bottom": null,
            "display": null,
            "flex": null,
            "flex_flow": null,
            "grid_area": null,
            "grid_auto_columns": null,
            "grid_auto_flow": null,
            "grid_auto_rows": null,
            "grid_column": null,
            "grid_gap": null,
            "grid_row": null,
            "grid_template_areas": null,
            "grid_template_columns": null,
            "grid_template_rows": null,
            "height": "800px",
            "justify_content": null,
            "justify_items": null,
            "left": null,
            "margin": null,
            "max_height": null,
            "max_width": null,
            "min_height": null,
            "min_width": null,
            "object_fit": null,
            "object_position": null,
            "order": null,
            "overflow": null,
            "overflow_x": null,
            "overflow_y": null,
            "padding": null,
            "right": null,
            "top": null,
            "visibility": null,
            "width": "100%"
          }
        }
      }
    }
  },
  "cells": [
    {
      "cell_type": "markdown",
      "metadata": {
        "id": "view-in-github",
        "colab_type": "text"
      },
      "source": [
        "<a href=\"https://colab.research.google.com/github/nazish-qamar/graphRAG/blob/main/GraphRAG.ipynb\" target=\"_parent\"><img src=\"https://colab.research.google.com/assets/colab-badge.svg\" alt=\"Open In Colab\"/></a>"
      ]
    },
    {
      "cell_type": "code",
      "execution_count": 1,
      "metadata": {
        "colab": {
          "base_uri": "https://localhost:8080/"
        },
        "id": "fbjR1oXjbjeC",
        "outputId": "a7427600-fff4-4abf-d8b2-395c21db2d9b"
      },
      "outputs": [
        {
          "output_type": "stream",
          "name": "stdout",
          "text": [
            "\u001b[2K     \u001b[90m━━━━━━━━━━━━━━━━━━━━━━━━━━━━━━━━━━━━━━━━\u001b[0m \u001b[32m50.4/50.4 kB\u001b[0m \u001b[31m1.2 MB/s\u001b[0m eta \u001b[36m0:00:00\u001b[0m\n",
            "\u001b[2K   \u001b[90m━━━━━━━━━━━━━━━━━━━━━━━━━━━━━━━━━━━━━━━━\u001b[0m \u001b[32m1.0/1.0 MB\u001b[0m \u001b[31m20.0 MB/s\u001b[0m eta \u001b[36m0:00:00\u001b[0m\n",
            "\u001b[2K   \u001b[90m━━━━━━━━━━━━━━━━━━━━━━━━━━━━━━━━━━━━━━━━\u001b[0m \u001b[32m2.3/2.3 MB\u001b[0m \u001b[31m44.2 MB/s\u001b[0m eta \u001b[36m0:00:00\u001b[0m\n",
            "\u001b[2K   \u001b[90m━━━━━━━━━━━━━━━━━━━━━━━━━━━━━━━━━━━━━━━━\u001b[0m \u001b[32m51.5/51.5 kB\u001b[0m \u001b[31m3.3 MB/s\u001b[0m eta \u001b[36m0:00:00\u001b[0m\n",
            "\u001b[2K   \u001b[90m━━━━━━━━━━━━━━━━━━━━━━━━━━━━━━━━━━━━━━━━\u001b[0m \u001b[32m206.9/206.9 kB\u001b[0m \u001b[31m13.8 MB/s\u001b[0m eta \u001b[36m0:00:00\u001b[0m\n",
            "\u001b[2K   \u001b[90m━━━━━━━━━━━━━━━━━━━━━━━━━━━━━━━━━━━━━━━━\u001b[0m \u001b[32m405.1/405.1 kB\u001b[0m \u001b[31m20.2 MB/s\u001b[0m eta \u001b[36m0:00:00\u001b[0m\n",
            "\u001b[2K   \u001b[90m━━━━━━━━━━━━━━━━━━━━━━━━━━━━━━━━━━━━━━━━\u001b[0m \u001b[32m289.9/289.9 kB\u001b[0m \u001b[31m15.6 MB/s\u001b[0m eta \u001b[36m0:00:00\u001b[0m\n",
            "\u001b[2K   \u001b[90m━━━━━━━━━━━━━━━━━━━━━━━━━━━━━━━━━━━━━━━━\u001b[0m \u001b[32m375.0/375.0 kB\u001b[0m \u001b[31m16.1 MB/s\u001b[0m eta \u001b[36m0:00:00\u001b[0m\n",
            "\u001b[2K   \u001b[90m━━━━━━━━━━━━━━━━━━━━━━━━━━━━━━━━━━━━━━━━\u001b[0m \u001b[32m1.1/1.1 MB\u001b[0m \u001b[31m25.3 MB/s\u001b[0m eta \u001b[36m0:00:00\u001b[0m\n",
            "\u001b[2K   \u001b[90m━━━━━━━━━━━━━━━━━━━━━━━━━━━━━━━━━━━━━━━━\u001b[0m \u001b[32m76.4/76.4 kB\u001b[0m \u001b[31m5.3 MB/s\u001b[0m eta \u001b[36m0:00:00\u001b[0m\n",
            "\u001b[2K   \u001b[90m━━━━━━━━━━━━━━━━━━━━━━━━━━━━━━━━━━━━━━━━\u001b[0m \u001b[32m77.9/77.9 kB\u001b[0m \u001b[31m3.8 MB/s\u001b[0m eta \u001b[36m0:00:00\u001b[0m\n",
            "\u001b[2K   \u001b[90m━━━━━━━━━━━━━━━━━━━━━━━━━━━━━━━━━━━━━━━━\u001b[0m \u001b[32m318.9/318.9 kB\u001b[0m \u001b[31m16.2 MB/s\u001b[0m eta \u001b[36m0:00:00\u001b[0m\n",
            "\u001b[2K   \u001b[90m━━━━━━━━━━━━━━━━━━━━━━━━━━━━━━━━━━━━━━━━\u001b[0m \u001b[32m49.3/49.3 kB\u001b[0m \u001b[31m2.7 MB/s\u001b[0m eta \u001b[36m0:00:00\u001b[0m\n",
            "\u001b[2K   \u001b[90m━━━━━━━━━━━━━━━━━━━━━━━━━━━━━━━━━━━━━━━━\u001b[0m \u001b[32m141.9/141.9 kB\u001b[0m \u001b[31m8.3 MB/s\u001b[0m eta \u001b[36m0:00:00\u001b[0m\n",
            "\u001b[2K   \u001b[90m━━━━━━━━━━━━━━━━━━━━━━━━━━━━━━━━━━━━━━━━\u001b[0m \u001b[32m58.3/58.3 kB\u001b[0m \u001b[31m3.7 MB/s\u001b[0m eta \u001b[36m0:00:00\u001b[0m\n",
            "\u001b[?25h"
          ]
        }
      ],
      "source": [
        "%pip install --upgrade --quiet langchain langchain-community langchain-openai langchain-experimental"
      ]
    },
    {
      "cell_type": "code",
      "source": [
        "%pip install --quiet neo4j tiktoken wikipedia yfiles_jupyter_graphs"
      ],
      "metadata": {
        "id": "nnp01icbgZZ1"
      },
      "execution_count": 10,
      "outputs": []
    },
    {
      "cell_type": "code",
      "source": [
        "from google.colab import userdata\n",
        "OPENAI_API_KEY = userdata.get('OPENAI_API_KEY')"
      ],
      "metadata": {
        "id": "je7f-hJWcWMC"
      },
      "execution_count": 3,
      "outputs": []
    },
    {
      "cell_type": "code",
      "source": [
        "NEO4J_URI = userdata.get('NEO4J_URI')\n",
        "NEO4J_USERNAME = userdata.get('NEO4J_USERNAME')\n",
        "NEO4J_PASSWORD = userdata.get('NEO4J_PASSWORD')\n",
        "AURA_INSTANCENAME = \"Instance01\"\n",
        "AURA_INSTANCEID = \"f3b443be\""
      ],
      "metadata": {
        "id": "A0116CHcekf6"
      },
      "execution_count": 11,
      "outputs": []
    },
    {
      "cell_type": "code",
      "source": [
        "from langchain_community.graphs import Neo4jGraph"
      ],
      "metadata": {
        "id": "otEgTC8adPzB"
      },
      "execution_count": 5,
      "outputs": []
    },
    {
      "cell_type": "code",
      "source": [
        "graph = Neo4jGraph(url=NEO4J_URI, username=NEO4J_USERNAME, password=NEO4J_PASSWORD)"
      ],
      "metadata": {
        "id": "WcKOt4hFdbQm"
      },
      "execution_count": 14,
      "outputs": []
    },
    {
      "cell_type": "code",
      "source": [
        "from langchain.document_loaders import WikipediaLoader\n",
        "raw_documents = WikipediaLoader(query=\"Elizabeth I\", lang=\"en\").load()\n"
      ],
      "metadata": {
        "colab": {
          "base_uri": "https://localhost:8080/"
        },
        "id": "MbJG7VJSiSFI",
        "outputId": "2d287803-5f89-4c5d-cd54-547ec8f6b71d"
      },
      "execution_count": 63,
      "outputs": [
        {
          "output_type": "stream",
          "name": "stderr",
          "text": [
            "/usr/local/lib/python3.10/dist-packages/wikipedia/wikipedia.py:389: GuessedAtParserWarning: No parser was explicitly specified, so I'm using the best available HTML parser for this system (\"lxml\"). This usually isn't a problem, but if you run this code on another system, or in a different virtual environment, it may use a different parser and behave differently.\n",
            "\n",
            "The code that caused this warning is on line 389 of the file /usr/local/lib/python3.10/dist-packages/wikipedia/wikipedia.py. To get rid of this warning, pass the additional argument 'features=\"lxml\"' to the BeautifulSoup constructor.\n",
            "\n",
            "  lis = BeautifulSoup(html).find_all('li')\n"
          ]
        }
      ]
    },
    {
      "cell_type": "code",
      "source": [
        "from langchain.text_splitter import TokenTextSplitter\n",
        "text_splitter = TokenTextSplitter(chunk_size=512, chunk_overlap=24)\n",
        "documents = text_splitter.split_documents(raw_documents[:3])"
      ],
      "metadata": {
        "id": "qhkaP2HCirZX"
      },
      "execution_count": 64,
      "outputs": []
    },
    {
      "cell_type": "code",
      "source": [
        "from langchain_openai import ChatOpenAI\n",
        "llm = ChatOpenAI(model_name=\"gpt-4o\", temperature=0, api_key=OPENAI_API_KEY)"
      ],
      "metadata": {
        "id": "HEYfR1naj6t6"
      },
      "execution_count": 65,
      "outputs": []
    },
    {
      "cell_type": "code",
      "source": [
        "from langchain.embeddings.openai import OpenAIEmbeddings\n",
        "embedding_model = OpenAIEmbeddings(model=\"text-embedding-ada-002\", openai_api_key=OPENAI_API_KEY)\n"
      ],
      "metadata": {
        "id": "yVaAbrwzsvaF"
      },
      "execution_count": 66,
      "outputs": []
    },
    {
      "cell_type": "code",
      "source": [
        "from langchain_experimental.graph_transformers import LLMGraphTransformer\n",
        "llm_transformer = LLMGraphTransformer(llm=llm)"
      ],
      "metadata": {
        "id": "bUbOmNoakhZB"
      },
      "execution_count": 67,
      "outputs": []
    },
    {
      "cell_type": "code",
      "source": [
        "graph_documents = llm_transformer.convert_to_graph_documents(documents)"
      ],
      "metadata": {
        "id": "2IywNj8Tk1Hn"
      },
      "execution_count": 68,
      "outputs": []
    },
    {
      "cell_type": "code",
      "source": [
        "graph_documents"
      ],
      "metadata": {
        "colab": {
          "base_uri": "https://localhost:8080/"
        },
        "id": "OAjKOQfa7qHM",
        "outputId": "3337c789-df60-43ea-8841-dc1b05e7bb98"
      },
      "execution_count": 69,
      "outputs": [
        {
          "output_type": "execute_result",
          "data": {
            "text/plain": [
              "[GraphDocument(nodes=[Node(id='Elizabeth I', type='Person', properties={}), Node(id='England', type='Place', properties={}), Node(id='Ireland', type='Place', properties={}), Node(id='House Of Tudor', type='Organization', properties={}), Node(id='Henry Viii', type='Person', properties={}), Node(id='Anne Boleyn', type='Person', properties={}), Node(id='Third Succession Act 1543', type='Event', properties={}), Node(id='Edward Vi', type='Person', properties={}), Node(id='Lady Jane Grey', type='Person', properties={}), Node(id='Mary', type='Person', properties={}), Node(id='William Cecil', type='Person', properties={}), Node(id='Baron Burghley', type='Title', properties={}), Node(id='Church Of England', type='Organization', properties={}), Node(id='James Vi Of Scotland', type='Person', properties={}), Node(id='Mary, Queen Of Scots', type='Person', properties={}), Node(id='Sir Francis Walsingham', type='Person', properties={}), Node(id='Elizabethan Religious Settlement', type='Event', properties={})], relationships=[Relationship(source=Node(id='Elizabeth I', type='Person', properties={}), target=Node(id='England', type='Place', properties={}), type='QUEEN_OF', properties={}), Relationship(source=Node(id='Elizabeth I', type='Person', properties={}), target=Node(id='Ireland', type='Place', properties={}), type='QUEEN_OF', properties={}), Relationship(source=Node(id='Elizabeth I', type='Person', properties={}), target=Node(id='House Of Tudor', type='Organization', properties={}), type='MEMBER_OF', properties={}), Relationship(source=Node(id='Elizabeth I', type='Person', properties={}), target=Node(id='Henry Viii', type='Person', properties={}), type='CHILD_OF', properties={}), Relationship(source=Node(id='Elizabeth I', type='Person', properties={}), target=Node(id='Anne Boleyn', type='Person', properties={}), type='CHILD_OF', properties={}), Relationship(source=Node(id='Elizabeth I', type='Person', properties={}), target=Node(id='Third Succession Act 1543', type='Event', properties={}), type='RESTORED_BY', properties={}), Relationship(source=Node(id='Edward Vi', type='Person', properties={}), target=Node(id='Henry Viii', type='Person', properties={}), type='CHILD_OF', properties={}), Relationship(source=Node(id='Edward Vi', type='Person', properties={}), target=Node(id='Elizabeth I', type='Person', properties={}), type='HALF_SIBLING_OF', properties={}), Relationship(source=Node(id='Edward Vi', type='Person', properties={}), target=Node(id='Mary', type='Person', properties={}), type='HALF_SIBLING_OF', properties={}), Relationship(source=Node(id='Mary', type='Person', properties={}), target=Node(id='Henry Viii', type='Person', properties={}), type='CHILD_OF', properties={}), Relationship(source=Node(id='Mary', type='Person', properties={}), target=Node(id='Elizabeth I', type='Person', properties={}), type='HALF_SIBLING_OF', properties={}), Relationship(source=Node(id='Elizabeth I', type='Person', properties={}), target=Node(id='William Cecil', type='Person', properties={}), type='ADVISED_BY', properties={}), Relationship(source=Node(id='William Cecil', type='Person', properties={}), target=Node(id='Baron Burghley', type='Title', properties={}), type='GRANTED_TITLE', properties={}), Relationship(source=Node(id='Elizabeth I', type='Person', properties={}), target=Node(id='Church Of England', type='Organization', properties={}), type='SUPREME_GOVERNOR_OF', properties={}), Relationship(source=Node(id='Elizabeth I', type='Person', properties={}), target=Node(id='James Vi Of Scotland', type='Person', properties={}), type='SUCCEEDED_BY', properties={}), Relationship(source=Node(id='James Vi Of Scotland', type='Person', properties={}), target=Node(id='Mary, Queen Of Scots', type='Person', properties={}), type='CHILD_OF', properties={}), Relationship(source=Node(id='Elizabeth I', type='Person', properties={}), target=Node(id='Sir Francis Walsingham', type='Person', properties={}), type='AIDED_BY', properties={}), Relationship(source=Node(id='Elizabeth I', type='Person', properties={}), target=Node(id='Elizabethan Religious Settlement', type='Event', properties={}), type='INITIATED', properties={})], source=Document(metadata={'title': 'Elizabeth I', 'summary': 'Elizabeth I (7 September 1533 – 24 March 1603) was Queen of England and Ireland from 17 November 1558 until her death in 1603. She was the last monarch of the House of Tudor.\\nElizabeth was the only surviving child of Henry VIII and his second wife, Anne Boleyn. When Elizabeth was two years old, her parents\\' marriage was annulled, her mother was executed, and Elizabeth was declared illegitimate. Henry restored her to the line of succession when she was 10, via the Third Succession Act 1543. After Henry\\'s death in 1547, Elizabeth\\'s younger half-brother Edward VI ruled until his own death in 1553, bequeathing the crown to a Protestant cousin, Lady Jane Grey, and ignoring the claims of his two half-sisters, the Catholic Mary and the younger Elizabeth, in spite of statutes to the contrary. Edward\\'s will was set aside within weeks of his death and Mary became queen, deposing and executing Jane. During Mary\\'s reign, Elizabeth was imprisoned for nearly a year on suspicion of supporting Protestant rebels.\\nUpon her half-sister\\'s death in 1558, Elizabeth succeeded to the throne and set out to rule by good counsel. She depended heavily on a group of trusted advisers led by William Cecil, whom she created Baron Burghley. One of her first actions as queen was the establishment of an English Protestant church, of which she became the supreme governor. This era, later named the Elizabethan Religious Settlement, would evolve into the Church of England. It was expected that Elizabeth would marry and produce an heir; however, despite numerous courtships, she never did. Because of this she is sometimes referred to as the \"Virgin Queen\". She was eventually succeeded by her first cousin twice removed, James VI of Scotland, the son of Mary, Queen of Scots.\\nIn government, Elizabeth was more moderate than her father and siblings had been. One of her mottoes was video et taceo (\"I see and keep silent\"). In religion, she was relatively tolerant and avoided systematic persecution. After the pope declared her illegitimate in 1570, which in theory released English Catholics from allegiance to her, several conspiracies threatened her life, all of which were defeated with the help of her ministers\\' secret service, run by Sir Francis Walsingham. Elizabeth was cautious in foreign affairs, manoeuvring between the major powers of France and Spain. She half-heartedly supported a number of ineffective, poorly resourced military campaigns in the Netherlands, France, and Ireland. By the mid-1580s, England could no longer avoid war with Spain.\\nAs she grew older, Elizabeth became celebrated for her virginity. A cult of personality grew around her which was celebrated in the portraits, pageants, and literature of the day. Elizabeth\\'s reign became known as the Elizabethan era. The period is famous for the flourishing of English drama, led by playwrights such as William Shakespeare and Christopher Marlowe, the prowess of English maritime adventurers, such as Francis Drake and Walter Raleigh, and for the defeat of the Spanish Armada. Some historians depict Elizabeth as a short-tempered, sometimes indecisive ruler, who enjoyed more than her fair share of luck. Towards the end of her reign, a series of economic and military problems weakened her popularity. Elizabeth is acknowledged as a charismatic performer (\"Gloriana\") and a dogged survivor (\"Good Queen Bess\") in an era when government was ramshackle and limited, and when monarchs in neighbouring countries faced internal problems that jeopardised their thrones. After the short, disastrous reigns of her half-siblings, her 44 years on the throne provided welcome stability for the kingdom and helped to forge a sense of national identity.\\n\\n', 'source': 'https://en.wikipedia.org/wiki/Elizabeth_I'}, page_content='Elizabeth I (7 September 1533 – 24 March 1603) was Queen of England and Ireland from 17 November 1558 until her death in 1603. She was the last monarch of the House of Tudor.\\nElizabeth was the only surviving child of Henry VIII and his second wife, Anne Boleyn. When Elizabeth was two years old, her parents\\' marriage was annulled, her mother was executed, and Elizabeth was declared illegitimate. Henry restored her to the line of succession when she was 10, via the Third Succession Act 1543. After Henry\\'s death in 1547, Elizabeth\\'s younger half-brother Edward VI ruled until his own death in 1553, bequeathing the crown to a Protestant cousin, Lady Jane Grey, and ignoring the claims of his two half-sisters, the Catholic Mary and the younger Elizabeth, in spite of statutes to the contrary. Edward\\'s will was set aside within weeks of his death and Mary became queen, deposing and executing Jane. During Mary\\'s reign, Elizabeth was imprisoned for nearly a year on suspicion of supporting Protestant rebels.\\nUpon her half-sister\\'s death in 1558, Elizabeth succeeded to the throne and set out to rule by good counsel. She depended heavily on a group of trusted advisers led by William Cecil, whom she created Baron Burghley. One of her first actions as queen was the establishment of an English Protestant church, of which she became the supreme governor. This era, later named the Elizabethan Religious Settlement, would evolve into the Church of England. It was expected that Elizabeth would marry and produce an heir; however, despite numerous courtships, she never did. Because of this she is sometimes referred to as the \"Virgin Queen\". She was eventually succeeded by her first cousin twice removed, James VI of Scotland, the son of Mary, Queen of Scots.\\nIn government, Elizabeth was more moderate than her father and siblings had been. One of her mottoes was video et taceo (\"I see and keep silent\"). In religion, she was relatively tolerant and avoided systematic persecution. After the pope declared her illegitimate in 1570, which in theory released English Catholics from allegiance to her, several conspiracies threatened her life, all of which were defeated with the help of her ministers\\' secret service, run by Sir Francis Walsingham. Elizabeth was cautious in foreign affairs, manoeuvring between the major powers of France and Spain. She half-heartedly supported a number of ineffective, poorly resourced military campaigns in the Netherlands, France,')),\n",
              " GraphDocument(nodes=[Node(id='Elizabeth', type='Person', properties={}), Node(id='Spain', type='Place', properties={}), Node(id='Netherlands', type='Place', properties={}), Node(id='France', type='Place', properties={}), Node(id='Ireland', type='Place', properties={}), Node(id='Elizabethan Era', type='Period', properties={}), Node(id='William Shakespeare', type='Person', properties={}), Node(id='Christopher Marlowe', type='Person', properties={}), Node(id='Francis Drake', type='Person', properties={}), Node(id='Walter Raleigh', type='Person', properties={}), Node(id='Spanish Armada', type='Event', properties={}), Node(id='Greenwich Palace', type='Place', properties={}), Node(id='7 September 1533', type='Date', properties={}), Node(id='Elizabeth Of York', type='Person', properties={}), Node(id='Lady Elizabeth Howard', type='Person', properties={}), Node(id='Henry Viii', type='Person', properties={}), Node(id='Anne Boleyn', type='Person', properties={})], relationships=[Relationship(source=Node(id='Elizabeth', type='Person', properties={}), target=Node(id='Spain', type='Place', properties={}), type='SUPPORTED_MILITARY_CAMPAIGNS_IN', properties={}), Relationship(source=Node(id='Elizabeth', type='Person', properties={}), target=Node(id='Netherlands', type='Place', properties={}), type='SUPPORTED_MILITARY_CAMPAIGNS_IN', properties={}), Relationship(source=Node(id='Elizabeth', type='Person', properties={}), target=Node(id='France', type='Place', properties={}), type='SUPPORTED_MILITARY_CAMPAIGNS_IN', properties={}), Relationship(source=Node(id='Elizabeth', type='Person', properties={}), target=Node(id='Ireland', type='Place', properties={}), type='SUPPORTED_MILITARY_CAMPAIGNS_IN', properties={}), Relationship(source=Node(id='England', type='Place', properties={}), target=Node(id='Spain', type='Place', properties={}), type='AT_WAR_WITH', properties={}), Relationship(source=Node(id='Elizabeth', type='Person', properties={}), target=Node(id='Elizabethan Era', type='Period', properties={}), type='REIGN_KNOWN_AS', properties={}), Relationship(source=Node(id='Elizabethan Era', type='Period', properties={}), target=Node(id='William Shakespeare', type='Person', properties={}), type='FLOURISHING_OF_ENGLISH_DRAMA_LED_BY', properties={}), Relationship(source=Node(id='Elizabethan Era', type='Period', properties={}), target=Node(id='Christopher Marlowe', type='Person', properties={}), type='FLOURISHING_OF_ENGLISH_DRAMA_LED_BY', properties={}), Relationship(source=Node(id='Elizabethan Era', type='Period', properties={}), target=Node(id='Francis Drake', type='Person', properties={}), type='MARITIME_ADVENTURER', properties={}), Relationship(source=Node(id='Elizabethan Era', type='Period', properties={}), target=Node(id='Walter Raleigh', type='Person', properties={}), type='MARITIME_ADVENTURER', properties={}), Relationship(source=Node(id='Elizabethan Era', type='Period', properties={}), target=Node(id='Spanish Armada', type='Event', properties={}), type='DEFEAT_OF', properties={}), Relationship(source=Node(id='Elizabeth', type='Person', properties={}), target=Node(id='Greenwich Palace', type='Place', properties={}), type='BORN_AT', properties={}), Relationship(source=Node(id='Elizabeth', type='Person', properties={}), target=Node(id='7 September 1533', type='Date', properties={}), type='BORN_ON', properties={}), Relationship(source=Node(id='Elizabeth', type='Person', properties={}), target=Node(id='Elizabeth Of York', type='Person', properties={}), type='NAMED_AFTER', properties={}), Relationship(source=Node(id='Elizabeth', type='Person', properties={}), target=Node(id='Lady Elizabeth Howard', type='Person', properties={}), type='NAMED_AFTER', properties={}), Relationship(source=Node(id='Elizabeth', type='Person', properties={}), target=Node(id='Henry Viii', type='Person', properties={}), type='CHILD_OF', properties={}), Relationship(source=Node(id='Elizabeth', type='Person', properties={}), target=Node(id='Anne Boleyn', type='Person', properties={}), type='CHILD_OF', properties={})], source=Document(metadata={'title': 'Elizabeth I', 'summary': 'Elizabeth I (7 September 1533 – 24 March 1603) was Queen of England and Ireland from 17 November 1558 until her death in 1603. She was the last monarch of the House of Tudor.\\nElizabeth was the only surviving child of Henry VIII and his second wife, Anne Boleyn. When Elizabeth was two years old, her parents\\' marriage was annulled, her mother was executed, and Elizabeth was declared illegitimate. Henry restored her to the line of succession when she was 10, via the Third Succession Act 1543. After Henry\\'s death in 1547, Elizabeth\\'s younger half-brother Edward VI ruled until his own death in 1553, bequeathing the crown to a Protestant cousin, Lady Jane Grey, and ignoring the claims of his two half-sisters, the Catholic Mary and the younger Elizabeth, in spite of statutes to the contrary. Edward\\'s will was set aside within weeks of his death and Mary became queen, deposing and executing Jane. During Mary\\'s reign, Elizabeth was imprisoned for nearly a year on suspicion of supporting Protestant rebels.\\nUpon her half-sister\\'s death in 1558, Elizabeth succeeded to the throne and set out to rule by good counsel. She depended heavily on a group of trusted advisers led by William Cecil, whom she created Baron Burghley. One of her first actions as queen was the establishment of an English Protestant church, of which she became the supreme governor. This era, later named the Elizabethan Religious Settlement, would evolve into the Church of England. It was expected that Elizabeth would marry and produce an heir; however, despite numerous courtships, she never did. Because of this she is sometimes referred to as the \"Virgin Queen\". She was eventually succeeded by her first cousin twice removed, James VI of Scotland, the son of Mary, Queen of Scots.\\nIn government, Elizabeth was more moderate than her father and siblings had been. One of her mottoes was video et taceo (\"I see and keep silent\"). In religion, she was relatively tolerant and avoided systematic persecution. After the pope declared her illegitimate in 1570, which in theory released English Catholics from allegiance to her, several conspiracies threatened her life, all of which were defeated with the help of her ministers\\' secret service, run by Sir Francis Walsingham. Elizabeth was cautious in foreign affairs, manoeuvring between the major powers of France and Spain. She half-heartedly supported a number of ineffective, poorly resourced military campaigns in the Netherlands, France, and Ireland. By the mid-1580s, England could no longer avoid war with Spain.\\nAs she grew older, Elizabeth became celebrated for her virginity. A cult of personality grew around her which was celebrated in the portraits, pageants, and literature of the day. Elizabeth\\'s reign became known as the Elizabethan era. The period is famous for the flourishing of English drama, led by playwrights such as William Shakespeare and Christopher Marlowe, the prowess of English maritime adventurers, such as Francis Drake and Walter Raleigh, and for the defeat of the Spanish Armada. Some historians depict Elizabeth as a short-tempered, sometimes indecisive ruler, who enjoyed more than her fair share of luck. Towards the end of her reign, a series of economic and military problems weakened her popularity. Elizabeth is acknowledged as a charismatic performer (\"Gloriana\") and a dogged survivor (\"Good Queen Bess\") in an era when government was ramshackle and limited, and when monarchs in neighbouring countries faced internal problems that jeopardised their thrones. After the short, disastrous reigns of her half-siblings, her 44 years on the throne provided welcome stability for the kingdom and helped to forge a sense of national identity.\\n\\n', 'source': 'https://en.wikipedia.org/wiki/Elizabeth_I'}, page_content=' and Spain. She half-heartedly supported a number of ineffective, poorly resourced military campaigns in the Netherlands, France, and Ireland. By the mid-1580s, England could no longer avoid war with Spain.\\nAs she grew older, Elizabeth became celebrated for her virginity. A cult of personality grew around her which was celebrated in the portraits, pageants, and literature of the day. Elizabeth\\'s reign became known as the Elizabethan era. The period is famous for the flourishing of English drama, led by playwrights such as William Shakespeare and Christopher Marlowe, the prowess of English maritime adventurers, such as Francis Drake and Walter Raleigh, and for the defeat of the Spanish Armada. Some historians depict Elizabeth as a short-tempered, sometimes indecisive ruler, who enjoyed more than her fair share of luck. Towards the end of her reign, a series of economic and military problems weakened her popularity. Elizabeth is acknowledged as a charismatic performer (\"Gloriana\") and a dogged survivor (\"Good Queen Bess\") in an era when government was ramshackle and limited, and when monarchs in neighbouring countries faced internal problems that jeopardised their thrones. After the short, disastrous reigns of her half-siblings, her 44 years on the throne provided welcome stability for the kingdom and helped to forge a sense of national identity.\\n\\n\\n== Early life ==\\n\\nElizabeth was born at Greenwich Palace on 7 September 1533 and was named after her grandmothers, Elizabeth of York and Lady Elizabeth Howard. She was the second child of Henry VIII of England born in wedlock to survive infancy. Her mother was Henry\\'s second wife, Anne Bo')),\n",
              " GraphDocument(nodes=[Node(id='Elizabeth', type='Person', properties={}), Node(id='Elizaveta Petrovna', type='Person', properties={}), Node(id='Empress Of Russia', type='Title', properties={}), Node(id='Russia', type='Country', properties={}), Node(id='Tsar Peter The Great', type='Person', properties={}), Node(id='Catherine I Of Russia', type='Person', properties={}), Node(id='Peter Ii', type='Person', properties={}), Node(id='Anna', type='Person', properties={}), Node(id='Ivan Vi', type='Person', properties={}), Node(id='Peter Iii', type='Person', properties={}), Node(id='Mikhail Lomonosov', type='Person', properties={}), Node(id='University Of Moscow', type='Organization', properties={}), Node(id='Ivan Shuvalov', type='Person', properties={}), Node(id='Imperial Academy Of Arts', type='Organization', properties={}), Node(id='Bartolomeo Rastrelli', type='Person', properties={}), Node(id='Peterhof Palace', type='Place', properties={}), Node(id='Winter Palace', type='Place', properties={}), Node(id='Smolny Cathedral', type='Place', properties={}), Node(id='Saint Petersburg', type='Place', properties={}), Node(id='Russian Empire', type='Country', properties={}), Node(id='War Of Austrian Succession', type='Event', properties={}), Node(id=\"Seven Years' War\", type='Event', properties={}), Node(id='Aleksey Bestuzhev-Ryumin', type='Person', properties={}), Node(id='Austria', type='Country', properties={}), Node(id='France', type='Country', properties={}), Node(id='Prussia', type='Country', properties={}), Node(id='Frederick The Great', type='Person', properties={})], relationships=[Relationship(source=Node(id='Elizabeth', type='Person', properties={}), target=Node(id='Elizaveta Petrovna', type='Person', properties={}), type='ALIAS', properties={}), Relationship(source=Node(id='Elizabeth', type='Person', properties={}), target=Node(id='Empress Of Russia', type='Title', properties={}), type='HELD_TITLE', properties={}), Relationship(source=Node(id='Empress Of Russia', type='Title', properties={}), target=Node(id='Russia', type='Country', properties={}), type='OF', properties={}), Relationship(source=Node(id='Elizabeth', type='Person', properties={}), target=Node(id='Tsar Peter The Great', type='Person', properties={}), type='CHILD_OF', properties={}), Relationship(source=Node(id='Elizabeth', type='Person', properties={}), target=Node(id='Catherine I Of Russia', type='Person', properties={}), type='CHILD_OF', properties={}), Relationship(source=Node(id='Peter Ii', type='Person', properties={}), target=Node(id='Elizabeth', type='Person', properties={}), type='AUNT_NEPHEW', properties={}), Relationship(source=Node(id='Anna', type='Person', properties={}), target=Node(id='Elizabeth', type='Person', properties={}), type='COUSIN', properties={}), Relationship(source=Node(id='Ivan Vi', type='Person', properties={}), target=Node(id='Elizabeth', type='Person', properties={}), type='SUCCESSOR', properties={}), Relationship(source=Node(id='Elizabeth', type='Person', properties={}), target=Node(id='Peter Iii', type='Person', properties={}), type='AUNT_NEPHEW', properties={}), Relationship(source=Node(id='Elizabeth', type='Person', properties={}), target=Node(id='Mikhail Lomonosov', type='Person', properties={}), type='ENCOURAGED', properties={}), Relationship(source=Node(id='Mikhail Lomonosov', type='Person', properties={}), target=Node(id='University Of Moscow', type='Organization', properties={}), type='FOUNDED', properties={}), Relationship(source=Node(id='Elizabeth', type='Person', properties={}), target=Node(id='Ivan Shuvalov', type='Person', properties={}), type='ENCOURAGED', properties={}), Relationship(source=Node(id='Ivan Shuvalov', type='Person', properties={}), target=Node(id='Imperial Academy Of Arts', type='Organization', properties={}), type='FOUNDED', properties={}), Relationship(source=Node(id='Elizabeth', type='Person', properties={}), target=Node(id='Bartolomeo Rastrelli', type='Person', properties={}), type='FAVORED_ARCHITECT', properties={}), Relationship(source=Node(id='Bartolomeo Rastrelli', type='Person', properties={}), target=Node(id='Peterhof Palace', type='Place', properties={}), type='DESIGNED', properties={}), Relationship(source=Node(id='Bartolomeo Rastrelli', type='Person', properties={}), target=Node(id='Winter Palace', type='Place', properties={}), type='DESIGNED', properties={}), Relationship(source=Node(id='Bartolomeo Rastrelli', type='Person', properties={}), target=Node(id='Smolny Cathedral', type='Place', properties={}), type='DESIGNED', properties={}), Relationship(source=Node(id='Smolny Cathedral', type='Place', properties={}), target=Node(id='Saint Petersburg', type='Place', properties={}), type='LOCATED_IN', properties={}), Relationship(source=Node(id='Winter Palace', type='Place', properties={}), target=Node(id='Saint Petersburg', type='Place', properties={}), type='LOCATED_IN', properties={}), Relationship(source=Node(id='Elizabeth', type='Person', properties={}), target=Node(id='Russian Empire', type='Country', properties={}), type='LED', properties={}), Relationship(source=Node(id='Elizabeth', type='Person', properties={}), target=Node(id='War Of Austrian Succession', type='Event', properties={}), type='LED_DURING', properties={}), Relationship(source=Node(id='Elizabeth', type='Person', properties={}), target=Node(id=\"Seven Years' War\", type='Event', properties={}), type='LED_DURING', properties={}), Relationship(source=Node(id='Elizabeth', type='Person', properties={}), target=Node(id='Aleksey Bestuzhev-Ryumin', type='Person', properties={}), type='COLLABORATED_WITH', properties={}), Relationship(source=Node(id='Aleksey Bestuzhev-Ryumin', type='Person', properties={}), target=Node(id='Austria', type='Country', properties={}), type='FORMED_ALLIANCE_WITH', properties={}), Relationship(source=Node(id='Aleksey Bestuzhev-Ryumin', type='Person', properties={}), target=Node(id='France', type='Country', properties={}), type='FORMED_ALLIANCE_WITH', properties={}), Relationship(source=Node(id='Russian Empire', type='Country', properties={}), target=Node(id='Prussia', type='Country', properties={}), type='FOUGHT', properties={}), Relationship(source=Node(id='Russian Empire', type='Country', properties={}), target=Node(id='Berlin', type='Place', properties={}), type='OCCUPIED', properties={}), Relationship(source=Node(id='Frederick The Great', type='Person', properties={}), target=Node(id='Prussia', type='Country', properties={}), type='LED', properties={})], source=Document(metadata={'title': 'Elizabeth of Russia', 'summary': \"Elizabeth or Elizaveta Petrovna (Russian: Елизаве́та Петро́вна; 29 December [O.S. 18 December] 1709 – 5 January [O.S. 25 December] 1762) was Empress of Russia from 1741 until her death in 1762. She remains one of the most popular Russian monarchs because of her decision not to execute a single person during her reign, her numerous construction projects, and her strong opposition to Prussian policies.\\nThe second-eldest daughter of Tsar Peter the Great (r.\\u20091682–1725), Elizabeth lived through the confused successions of her father's descendants following her half-brother Alexei's death in 1718. The throne first passed to her mother Catherine I of Russia (r.\\u20091725–1727), then to her nephew Peter II, who died in 1730 and was succeeded by Elizabeth's first cousin Anna (r.\\u20091730–1740). After the brief rule of Anna's infant great-nephew, Ivan VI, Elizabeth seized the throne with the military's support and declared her own nephew, the future Peter III, her heir.\\nDuring her reign Elizabeth continued the policies of her father and brought about a remarkable Age of Enlightenment in Russia. Her domestic policies allowed the nobles to gain dominance in local government while shortening their terms of service to the state. She encouraged Mikhail Lomonosov's foundation of the University of Moscow, the highest-ranking Russian educational institution. Her court became one of the most splendid in all Europe, especially regarding architecture: she modernised Russia's roads, encouraged Ivan Shuvalov's foundation of the Imperial Academy of Arts, and financed grandiose Baroque projects of her favourite architect, Bartolomeo Rastrelli, particularly in Peterhof Palace. The Winter Palace and the Smolny Cathedral in Saint Petersburg are among the chief monuments of her reign.\\nElizabeth led the Russian Empire during the two major European conflicts of her time: the War of Austrian Succession (1740–1748) and the Seven Years' War (1756–1763). She and diplomat Aleksey Bestuzhev-Ryumin solved the first event by forming an alliance with Austria and France, but indirectly caused the second. Russian troops enjoyed several victories against Prussia and briefly occupied Berlin, but when Frederick the Great was finally considering surrender in January 1762, the Russian Empress died. She was the last agnatic member of the House of Romanov to reign over the Russian Empire.\\n\\n\", 'source': 'https://en.wikipedia.org/wiki/Elizabeth_of_Russia'}, page_content=\"Elizabeth or Elizaveta Petrovna (Russian: Елизаве́та Петро́вна; 29 December [O.S. 18 December] 1709 – 5 January [O.S. 25 December] 1762) was Empress of Russia from 1741 until her death in 1762. She remains one of the most popular Russian monarchs because of her decision not to execute a single person during her reign, her numerous construction projects, and her strong opposition to Prussian policies.\\nThe second-eldest daughter of Tsar Peter the Great (r.\\u20091682–1725), Elizabeth lived through the confused successions of her father's descendants following her half-brother Alexei's death in 1718. The throne first passed to her mother Catherine I of Russia (r.\\u20091725–1727), then to her nephew Peter II, who died in 1730 and was succeeded by Elizabeth's first cousin Anna (r.\\u20091730–1740). After the brief rule of Anna's infant great-nephew, Ivan VI, Elizabeth seized the throne with the military's support and declared her own nephew, the future Peter III, her heir.\\nDuring her reign Elizabeth continued the policies of her father and brought about a remarkable Age of Enlightenment in Russia. Her domestic policies allowed the nobles to gain dominance in local government while shortening their terms of service to the state. She encouraged Mikhail Lomonosov's foundation of the University of Moscow, the highest-ranking Russian educational institution. Her court became one of the most splendid in all Europe, especially regarding architecture: she modernised Russia's roads, encouraged Ivan Shuvalov's foundation of the Imperial Academy of Arts, and financed grandiose Baroque projects of her favourite architect, Bartolomeo Rastrelli, particularly in Peterhof Palace. The Winter Palace and the Smolny Cathedral in Saint Petersburg are among the chief monuments of her reign.\\nElizabeth led the Russian Empire during the two major European conflicts of her time: the War of Austrian Succession (1740–1748) and the Seven Years' War (1756–1763). She and diplomat Aleksey Bestuzhev-Ryumin solved the first event by forming an alliance with Austria and France, but indirectly caused the second. Russian troops enjoyed several victories against Prussia and briefly occupied Berlin, but when Frederick the Great was finally considering surrender in January\")),\n",
              " GraphDocument(nodes=[Node(id='Russian Troops', type='Group', properties={}), Node(id='Prussia', type='Place', properties={}), Node(id='Berlin', type='Place', properties={}), Node(id='Frederick The Great', type='Person', properties={}), Node(id='January 1762', type='Date', properties={}), Node(id='Russian Empress', type='Person', properties={}), Node(id='House Of Romanov', type='Organization', properties={}), Node(id='Russian Empire', type='Place', properties={}), Node(id='Elizabeth', type='Person', properties={}), Node(id='Kolomenskoye', type='Place', properties={}), Node(id='Moscow', type='Place', properties={}), Node(id='18 December 1709 (O.S.)', type='Date', properties={}), Node(id='Peter The Great', type='Person', properties={}), Node(id='Tsar Of Russia', type='Title', properties={}), Node(id='Catherine', type='Person', properties={}), Node(id='Samuel Skowroński', type='Person', properties={}), Node(id='Grand Duchy Of Lithuania', type='Place', properties={}), Node(id='Cathedral Of The Holy Trinity', type='Place', properties={}), Node(id='Saint Petersburg', type='Place', properties={}), Node(id='23 October And 1 December 1707', type='Date', properties={}), Node(id=\"Saint Isaac'S Cathedral\", type='Place', properties={}), Node(id='9 February 1712', type='Date', properties={}), Node(id='Anna', type='Person', properties={}), Node(id='6 March 1711', type='Date', properties={}), Node(id='Tsarevna', type='Title', properties={}), Node(id='Crown Prince Alexei Petrovich', type='Person', properties={}), Node(id='Eudoxia Lopukhina', type='Person', properties={})], relationships=[Relationship(source=Node(id='Russian Troops', type='Group', properties={}), target=Node(id='Prussia', type='Place', properties={}), type='VICTORY_AGAINST', properties={}), Relationship(source=Node(id='Russian Troops', type='Group', properties={}), target=Node(id='Berlin', type='Place', properties={}), type='OCCUPIED', properties={}), Relationship(source=Node(id='Frederick The Great', type='Person', properties={}), target=Node(id='January 1762', type='Date', properties={}), type='CONSIDERING_SURRENDER', properties={}), Relationship(source=Node(id='Russian Empress', type='Person', properties={}), target=Node(id='House Of Romanov', type='Organization', properties={}), type='MEMBER_OF', properties={}), Relationship(source=Node(id='House Of Romanov', type='Organization', properties={}), target=Node(id='Russian Empire', type='Place', properties={}), type='REIGNED_OVER', properties={}), Relationship(source=Node(id='Elizabeth', type='Person', properties={}), target=Node(id='Kolomenskoye', type='Place', properties={}), type='BORN_IN', properties={}), Relationship(source=Node(id='Kolomenskoye', type='Place', properties={}), target=Node(id='Moscow', type='Place', properties={}), type='NEAR', properties={}), Relationship(source=Node(id='Elizabeth', type='Person', properties={}), target=Node(id='18 December 1709 (O.S.)', type='Date', properties={}), type='BORN_ON', properties={}), Relationship(source=Node(id='Peter The Great', type='Person', properties={}), target=Node(id='Tsar Of Russia', type='Title', properties={}), type='HELD_TITLE', properties={}), Relationship(source=Node(id='Elizabeth', type='Person', properties={}), target=Node(id='Peter The Great', type='Person', properties={}), type='CHILD_OF', properties={}), Relationship(source=Node(id='Elizabeth', type='Person', properties={}), target=Node(id='Catherine', type='Person', properties={}), type='CHILD_OF', properties={}), Relationship(source=Node(id='Catherine', type='Person', properties={}), target=Node(id='Samuel Skowroński', type='Person', properties={}), type='CHILD_OF', properties={}), Relationship(source=Node(id='Samuel Skowroński', type='Person', properties={}), target=Node(id='Grand Duchy Of Lithuania', type='Place', properties={}), type='SUBJECT_OF', properties={}), Relationship(source=Node(id='Peter The Great', type='Person', properties={}), target=Node(id='Catherine', type='Person', properties={}), type='MARRIED_TO', properties={}), Relationship(source=Node(id='Peter The Great', type='Person', properties={}), target=Node(id='Cathedral Of The Holy Trinity', type='Place', properties={}), type='MARRIED_IN', properties={}), Relationship(source=Node(id='Peter The Great', type='Person', properties={}), target=Node(id='Saint Petersburg', type='Place', properties={}), type='MARRIED_IN', properties={}), Relationship(source=Node(id='Peter The Great', type='Person', properties={}), target=Node(id='23 October And 1 December 1707', type='Date', properties={}), type='MARRIED_BETWEEN', properties={}), Relationship(source=Node(id='Peter The Great', type='Person', properties={}), target=Node(id=\"Saint Isaac'S Cathedral\", type='Place', properties={}), type='MARRIED_IN', properties={}), Relationship(source=Node(id='Peter The Great', type='Person', properties={}), target=Node(id='9 February 1712', type='Date', properties={}), type='MARRIED_ON', properties={}), Relationship(source=Node(id='Anna', type='Person', properties={}), target=Node(id='Peter The Great', type='Person', properties={}), type='CHILD_OF', properties={}), Relationship(source=Node(id='Anna', type='Person', properties={}), target=Node(id='Catherine', type='Person', properties={}), type='CHILD_OF', properties={}), Relationship(source=Node(id='Anna', type='Person', properties={}), target=Node(id='Tsarevna', type='Title', properties={}), type='HELD_TITLE', properties={}), Relationship(source=Node(id='Elizabeth', type='Person', properties={}), target=Node(id='Tsarevna', type='Title', properties={}), type='HELD_TITLE', properties={}), Relationship(source=Node(id='Elizabeth', type='Person', properties={}), target=Node(id='6 March 1711', type='Date', properties={}), type='LEGITIMISED_ON', properties={}), Relationship(source=Node(id='Anna', type='Person', properties={}), target=Node(id='6 March 1711', type='Date', properties={}), type='LEGITIMISED_ON', properties={}), Relationship(source=Node(id='Peter The Great', type='Person', properties={}), target=Node(id='Crown Prince Alexei Petrovich', type='Person', properties={}), type='PARENT_OF', properties={}), Relationship(source=Node(id='Eudoxia Lopukhina', type='Person', properties={}), target=Node(id='Crown Prince Alexei Petrovich', type='Person', properties={}), type='PARENT_OF', properties={}), Relationship(source=Node(id='Peter The Great', type='Person', properties={}), target=Node(id='Eudoxia Lopukhina', type='Person', properties={}), type='MARRIED_TO', properties={})], source=Document(metadata={'title': 'Elizabeth of Russia', 'summary': \"Elizabeth or Elizaveta Petrovna (Russian: Елизаве́та Петро́вна; 29 December [O.S. 18 December] 1709 – 5 January [O.S. 25 December] 1762) was Empress of Russia from 1741 until her death in 1762. She remains one of the most popular Russian monarchs because of her decision not to execute a single person during her reign, her numerous construction projects, and her strong opposition to Prussian policies.\\nThe second-eldest daughter of Tsar Peter the Great (r.\\u20091682–1725), Elizabeth lived through the confused successions of her father's descendants following her half-brother Alexei's death in 1718. The throne first passed to her mother Catherine I of Russia (r.\\u20091725–1727), then to her nephew Peter II, who died in 1730 and was succeeded by Elizabeth's first cousin Anna (r.\\u20091730–1740). After the brief rule of Anna's infant great-nephew, Ivan VI, Elizabeth seized the throne with the military's support and declared her own nephew, the future Peter III, her heir.\\nDuring her reign Elizabeth continued the policies of her father and brought about a remarkable Age of Enlightenment in Russia. Her domestic policies allowed the nobles to gain dominance in local government while shortening their terms of service to the state. She encouraged Mikhail Lomonosov's foundation of the University of Moscow, the highest-ranking Russian educational institution. Her court became one of the most splendid in all Europe, especially regarding architecture: she modernised Russia's roads, encouraged Ivan Shuvalov's foundation of the Imperial Academy of Arts, and financed grandiose Baroque projects of her favourite architect, Bartolomeo Rastrelli, particularly in Peterhof Palace. The Winter Palace and the Smolny Cathedral in Saint Petersburg are among the chief monuments of her reign.\\nElizabeth led the Russian Empire during the two major European conflicts of her time: the War of Austrian Succession (1740–1748) and the Seven Years' War (1756–1763). She and diplomat Aleksey Bestuzhev-Ryumin solved the first event by forming an alliance with Austria and France, but indirectly caused the second. Russian troops enjoyed several victories against Prussia and briefly occupied Berlin, but when Frederick the Great was finally considering surrender in January 1762, the Russian Empress died. She was the last agnatic member of the House of Romanov to reign over the Russian Empire.\\n\\n\", 'source': 'https://en.wikipedia.org/wiki/Elizabeth_of_Russia'}, page_content=' Russian troops enjoyed several victories against Prussia and briefly occupied Berlin, but when Frederick the Great was finally considering surrender in January 1762, the Russian Empress died. She was the last agnatic member of the House of Romanov to reign over the Russian Empire.\\n\\n\\n== Early life ==\\n\\n\\n=== Childhood and teenage years ===\\n\\nElizabeth was born at Kolomenskoye, near Moscow, Russia, on 18 December 1709 (O.S.). Her parents were Peter the Great, Tsar of Russia and Catherine. Catherine was the daughter of Samuel Skowroński, a subject of Grand Duchy of Lithuania. Although no documentary record exists, her parents were said to have married secretly at the Cathedral of the Holy Trinity in Saint Petersburg at some point between 23 October and 1 December 1707. Their official marriage was at Saint Isaac\\'s Cathedral in Saint Petersburg on 9 February 1712. On this day, the two children previously born to the couple (Anna and Elizabeth) were legitimised by their father and given the title of Tsarevna (\"princess\") on 6 March 1711. Of the twelve children born to Peter and Catherine (five sons and seven daughters), only the sisters survived to adulthood. They had one older surviving sibling, crown prince Alexei Petrovich, who was Peter\\'s son by his first wife, noblewoman Eudoxia Lopukhina.\\nAs a child, Elizabeth was the favourite of her father, whom she resembled both physically and temperamentally. Even though he adored his daughter, Peter did not devote time or attention to her education; having both a son and grandson from his first marriage to a noblewoman, he did not anticipate that a daughter born to his former maid might one day inherit the Russian throne, which had until that point never been occupied by a woman; as such, it was left to Catherine to raise the girls, a task met with considerable difficulty due to her own lack of education. Despite this, Elizabeth was still ')),\n",
              " GraphDocument(nodes=[Node(id='Queen Elizabeth I', type='Person', properties={}), Node(id='Early Modern Period', type='Period', properties={}), Node(id='English Royal Portraits', type='Concept', properties={}), Node(id='Roses', type='Object', properties={}), Node(id='Prayer Books', type='Object', properties={}), Node(id='Globes', type='Object', properties={}), Node(id='Crowns', type='Object', properties={}), Node(id='Swords', type='Object', properties={}), Node(id='Columns', type='Object', properties={}), Node(id='Moons', type='Object', properties={}), Node(id='Pearls', type='Object', properties={}), Node(id='Virgin Queen', type='Concept', properties={}), Node(id='Henry Viii', type='Person', properties={}), Node(id='Nicholas Hilliard', type='Person', properties={}), Node(id='George Gower', type='Person', properties={}), Node(id='Cornelis Ketel', type='Person', properties={}), Node(id='Federico Zuccaro', type='Person', properties={}), Node(id='Isaac Oliver', type='Person', properties={}), Node(id='Marcus Gheeraerts The Younger', type='Person', properties={}), Node(id='Serjeant Painter', type='Role', properties={}), Node(id='Limner', type='Role', properties={}), Node(id='Miniaturist', type='Role', properties={}), Node(id='Goldsmith', type='Role', properties={})], relationships=[Relationship(source=Node(id='Queen Elizabeth I', type='Person', properties={}), target=Node(id='Early Modern Period', type='Period', properties={}), type='SPANS', properties={}), Relationship(source=Node(id='Queen Elizabeth I', type='Person', properties={}), target=Node(id='English Royal Portraits', type='Concept', properties={}), type='SUBJECT', properties={}), Relationship(source=Node(id='Roses', type='Object', properties={}), target=Node(id='Queen Elizabeth I', type='Person', properties={}), type='SYMBOLIC_OBJECT', properties={}), Relationship(source=Node(id='Prayer Books', type='Object', properties={}), target=Node(id='Queen Elizabeth I', type='Person', properties={}), type='SYMBOLIC_OBJECT', properties={}), Relationship(source=Node(id='Globes', type='Object', properties={}), target=Node(id='Queen Elizabeth I', type='Person', properties={}), type='SYMBOLIC_OBJECT', properties={}), Relationship(source=Node(id='Crowns', type='Object', properties={}), target=Node(id='Queen Elizabeth I', type='Person', properties={}), type='SYMBOLIC_OBJECT', properties={}), Relationship(source=Node(id='Swords', type='Object', properties={}), target=Node(id='Queen Elizabeth I', type='Person', properties={}), type='SYMBOLIC_OBJECT', properties={}), Relationship(source=Node(id='Columns', type='Object', properties={}), target=Node(id='Queen Elizabeth I', type='Person', properties={}), type='SYMBOLIC_OBJECT', properties={}), Relationship(source=Node(id='Moons', type='Object', properties={}), target=Node(id='Queen Elizabeth I', type='Person', properties={}), type='SYMBOLIC_OBJECT', properties={}), Relationship(source=Node(id='Pearls', type='Object', properties={}), target=Node(id='Queen Elizabeth I', type='Person', properties={}), type='SYMBOLIC_OBJECT', properties={}), Relationship(source=Node(id='Virgin Queen', type='Concept', properties={}), target=Node(id='Queen Elizabeth I', type='Person', properties={}), type='ALIAS', properties={}), Relationship(source=Node(id='Henry Viii', type='Person', properties={}), target=Node(id='Queen Elizabeth I', type='Person', properties={}), type='PARENT', properties={}), Relationship(source=Node(id='Nicholas Hilliard', type='Person', properties={}), target=Node(id='Queen Elizabeth I', type='Person', properties={}), type='PORTRAIT_ARTIST', properties={}), Relationship(source=Node(id='George Gower', type='Person', properties={}), target=Node(id='Queen Elizabeth I', type='Person', properties={}), type='PORTRAIT_ARTIST', properties={}), Relationship(source=Node(id='Cornelis Ketel', type='Person', properties={}), target=Node(id='Queen Elizabeth I', type='Person', properties={}), type='PORTRAIT_ARTIST', properties={}), Relationship(source=Node(id='Federico Zuccaro', type='Person', properties={}), target=Node(id='Queen Elizabeth I', type='Person', properties={}), type='PORTRAIT_ARTIST', properties={}), Relationship(source=Node(id='Isaac Oliver', type='Person', properties={}), target=Node(id='Queen Elizabeth I', type='Person', properties={}), type='PORTRAIT_ARTIST', properties={}), Relationship(source=Node(id='Marcus Gheeraerts The Younger', type='Person', properties={}), target=Node(id='Queen Elizabeth I', type='Person', properties={}), type='PORTRAIT_ARTIST', properties={}), Relationship(source=Node(id='Nicholas Hilliard', type='Person', properties={}), target=Node(id='Limner', type='Role', properties={}), type='APPOINTED_AS', properties={}), Relationship(source=Node(id='Nicholas Hilliard', type='Person', properties={}), target=Node(id='Miniaturist', type='Role', properties={}), type='APPOINTED_AS', properties={}), Relationship(source=Node(id='Nicholas Hilliard', type='Person', properties={}), target=Node(id='Goldsmith', type='Role', properties={}), type='APPOINTED_AS', properties={}), Relationship(source=Node(id='George Gower', type='Person', properties={}), target=Node(id='Serjeant Painter', type='Role', properties={}), type='APPOINTED_AS', properties={})], source=Document(metadata={'title': 'Portraiture of Elizabeth I', 'summary': 'The portraiture of Queen Elizabeth I (1533–1603) spans the evolution of English royal portraits in the early modern period (1400/1500-1800), from the earliest representations of simple likenesses to the later complex imagery used to convey the power and aspirations of the state, as well as of the monarch at its head.\\nEven the earliest portraits of Elizabeth I contain symbolic objects such as roses and prayer books that would have carried meaning to viewers of her day. Later portraits of Elizabeth layer the iconography of empire—globes, crowns, swords and columns—and representations of virginity and purity, such as moons and pearls, with classical allusions, to present a complex \"story\" that conveyed to Elizabethan era viewers the majesty and significance of the \\'Virgin Queen\\'.\\n\\n', 'source': 'https://en.wikipedia.org/wiki/Portraiture_of_Elizabeth_I'}, page_content='The portraiture of Queen Elizabeth I (1533–1603) spans the evolution of English royal portraits in the early modern period (1400/1500-1800), from the earliest representations of simple likenesses to the later complex imagery used to convey the power and aspirations of the state, as well as of the monarch at its head.\\nEven the earliest portraits of Elizabeth I contain symbolic objects such as roses and prayer books that would have carried meaning to viewers of her day. Later portraits of Elizabeth layer the iconography of empire—globes, crowns, swords and columns—and representations of virginity and purity, such as moons and pearls, with classical allusions, to present a complex \"story\" that conveyed to Elizabethan era viewers the majesty and significance of the \\'Virgin Queen\\'.\\n\\n\\n== Overview ==\\n\\n\\n=== Portraiture in Tudor England ===\\n\\nTwo portraiture traditions had arisen in the Tudor court since the days of Elizabeth\\'s father, Henry VIII. The portrait miniature developed from the illuminated manuscript tradition. These small personal images were almost invariably painted from life over the space of a few days in watercolours on vellum, stiffened by being glued to a playing card. Panel paintings in oils on prepared wood surfaces were based on preparatory drawings and were usually executed at life size, as were oil paintings on canvas.\\nUnlike her contemporaries in France, Elizabeth never granted rights to produce her portrait to a single artist, although Nicholas Hilliard was appointed her official limner, or miniaturist and goldsmith. George Gower, a fashionable court portraitist created Serjeant Painter in 1581, was responsible for approving all portraits of the queen created by other artists from 1581 until his death in 1596.\\nElizabeth sat for a number of artists over the years, including Hilliard, Cornelis Ketel, Federico Zuccaro or Zuccari, Isaac Oliver, and most likely to Gower and Marcus Gheeraerts the Younger. Portraits were commissioned by the government as gifts to foreign monarchs and to show to prospective suitors. Courtiers commissioned heavily symbolic paintings to demonstrate their devotion to the queen, and the fashionable long galleries of later Elizabethan country houses were filled with sets of portraits. The studios of Tudor artists produced images of Elizabeth working from approved \"face patterns\", or approved drawings of the queen, to meet this growing demand for her image, an important symbol of loyalty and reverence for the crown in times of turbulence.\\n\\n\\n===')),\n",
              " GraphDocument(nodes=[Node(id='Hans Holbein The Younger', type='Person', properties={}), Node(id='Henry Viii', type='Person', properties={}), Node(id='Whitehall Palace', type='Place', properties={}), Node(id='Jane Seymour', type='Person', properties={}), Node(id='Elizabeth', type='Person', properties={}), Node(id='Titian', type='Person', properties={}), Node(id='Philip Ii Of Spain', type='Person', properties={})], relationships=[Relationship(source=Node(id='Hans Holbein The Younger', type='Person', properties={}), target=Node(id='Henry Viii', type='Person', properties={}), type='COURT_ARTIST', properties={}), Relationship(source=Node(id='Hans Holbein The Younger', type='Person', properties={}), target=Node(id='Whitehall Palace', type='Place', properties={}), type='MURAL', properties={}), Relationship(source=Node(id='Hans Holbein The Younger', type='Person', properties={}), target=Node(id='Jane Seymour', type='Person', properties={}), type='PAINTED', properties={}), Relationship(source=Node(id='Hans Holbein The Younger', type='Person', properties={}), target=Node(id='Elizabeth', type='Person', properties={}), type='INFLUENCED', properties={}), Relationship(source=Node(id='Titian', type='Person', properties={}), target=Node(id='Philip Ii Of Spain', type='Person', properties={}), type='PAINTED', properties={})], source=Document(metadata={'title': 'Portraiture of Elizabeth I', 'summary': 'The portraiture of Queen Elizabeth I (1533–1603) spans the evolution of English royal portraits in the early modern period (1400/1500-1800), from the earliest representations of simple likenesses to the later complex imagery used to convey the power and aspirations of the state, as well as of the monarch at its head.\\nEven the earliest portraits of Elizabeth I contain symbolic objects such as roses and prayer books that would have carried meaning to viewers of her day. Later portraits of Elizabeth layer the iconography of empire—globes, crowns, swords and columns—and representations of virginity and purity, such as moons and pearls, with classical allusions, to present a complex \"story\" that conveyed to Elizabethan era viewers the majesty and significance of the \\'Virgin Queen\\'.\\n\\n', 'source': 'https://en.wikipedia.org/wiki/Portraiture_of_Elizabeth_I'}, page_content=' growing demand for her image, an important symbol of loyalty and reverence for the crown in times of turbulence.\\n\\n\\n=== European context ===\\n\\nBy far the most impressive models of portraiture available to English portraitists were the many portraits by Hans Holbein the Younger, the outstanding Northern portraitist of the first half of the 16th century, who had made two lengthy visits to England, and had been Henry VIII\\'s court artist. Holbein had accustomed the English court to the full-length life-size portrait, although none of his originals now survive. His great dynastic mural at Whitehall Palace, destroyed in 1698, and perhaps other original large portraits, would have been familiar to Elizabethan artists.\\nBoth Holbein and his great Italian contemporary Titian had combined great psychological penetration with a sufficiently majestic impression to satisfy their royal patrons. By his second visit, Holbein had already begun to move away from a strictly realist depiction; in his Jane Seymour, \"the figure is no longer seen as displacing with its bulk a recognizable section of space: it approaches rather to a flat pattern, made alive by a bounding and vital outline\". This tendency was to be taken much further by the later portraits of Elizabeth, where \"Likeness of feature and an interest in form and volume have gradually been abandoned in favour of an effect of splendid majesty obtained by decorative pattern, and the forms have been flattened accordingly\".\\n\\nTitian continued to paint royal portraits, especially of Philip II of Spain, until the 1570s, but in sharply reduce'))]"
            ]
          },
          "metadata": {},
          "execution_count": 69
        }
      ]
    },
    {
      "cell_type": "code",
      "source": [
        "graph.add_graph_documents(\n",
        "    graph_documents,\n",
        "    baseEntityLabel=True,\n",
        "    include_source=True\n",
        "    #include_metadata=True\n",
        ")"
      ],
      "metadata": {
        "id": "8I3eLlS0lBTs"
      },
      "execution_count": 70,
      "outputs": []
    },
    {
      "cell_type": "code",
      "source": [
        "# for plotting\n",
        "default_cypher = \"Match (s)-[r:!MENTIONS]->(t) RETURN s,r,t LIMIT 50\""
      ],
      "metadata": {
        "id": "GX-oWbc7lWc7"
      },
      "execution_count": 71,
      "outputs": []
    },
    {
      "cell_type": "code",
      "source": [
        "from yfiles_jupyter_graphs import GraphWidget\n",
        "from neo4j import GraphDatabase"
      ],
      "metadata": {
        "id": "VQngEEXJoVKH"
      },
      "execution_count": 72,
      "outputs": []
    },
    {
      "cell_type": "code",
      "source": [
        "try:\n",
        "  import google.colab\n",
        "  from google.colab import output\n",
        "  output.enable_custom_widget_manager()\n",
        "except:\n",
        "  pass"
      ],
      "metadata": {
        "id": "PV6sdy6BoFrl"
      },
      "execution_count": 73,
      "outputs": []
    },
    {
      "cell_type": "code",
      "source": [
        "def showGraph(cypher: str=default_cypher):\n",
        "  # create neo4j session to run queries\n",
        "  driver = GraphDatabase.driver(NEO4J_URI, auth=(NEO4J_USERNAME, NEO4J_PASSWORD))\n",
        "  session = driver.session()\n",
        "  widget = GraphWidget(graph = session.run(cypher).graph())\n",
        "  widget.node_label_mapping = \"id\"\n",
        "  display(widget)\n",
        "  return widget"
      ],
      "metadata": {
        "id": "bqY4tdzvlwif"
      },
      "execution_count": 74,
      "outputs": []
    },
    {
      "cell_type": "code",
      "source": [
        "showGraph()"
      ],
      "metadata": {
        "colab": {
          "base_uri": "https://localhost:8080/",
          "height": 1000,
          "referenced_widgets": [
            "96fbe0b933544a8db9b5c6eacb4d9adb",
            "ca0caf2f2aa643fa98d2d835e9cc5c33",
            "53ce30d86a6b447e9ca2c1ed55cb5cb2"
          ]
        },
        "id": "nFZKKwCEorKY",
        "outputId": "cd6dcaae-f3e7-40b8-b1ca-8676a92f5d76"
      },
      "execution_count": 29,
      "outputs": [
        {
          "output_type": "display_data",
          "data": {
            "text/plain": [
              "GraphWidget(layout=Layout(height='800px', width='100%'))"
            ],
            "application/vnd.jupyter.widget-view+json": {
              "version_major": 2,
              "version_minor": 0,
              "model_id": "96fbe0b933544a8db9b5c6eacb4d9adb"
            }
          },
          "metadata": {
            "application/vnd.jupyter.widget-view+json": {
              "colab": {
                "custom_widget_manager": {
                  "url": "https://ssl.gstatic.com/colaboratory-static/widgets/colab-cdn-widget-manager/2b70e893a8ba7c0f/manager.min.js"
                }
              }
            }
          }
        },
        {
          "output_type": "display_data",
          "data": {
            "text/plain": [
              "GraphWidget(layout=Layout(height='800px', width='100%'))"
            ],
            "application/vnd.jupyter.widget-view+json": {
              "version_major": 2,
              "version_minor": 0,
              "model_id": "96fbe0b933544a8db9b5c6eacb4d9adb"
            }
          },
          "metadata": {
            "application/vnd.jupyter.widget-view+json": {
              "colab": {
                "custom_widget_manager": {
                  "url": "https://ssl.gstatic.com/colaboratory-static/widgets/colab-cdn-widget-manager/2b70e893a8ba7c0f/manager.min.js"
                }
              }
            }
          }
        }
      ]
    },
    {
      "cell_type": "code",
      "source": [
        "from typing import List, Tuple, Optional\n",
        "from langchain_community.vectorstores import Neo4jVector\n",
        "from langchain_openai import OpenAIEmbeddings\n",
        "\n",
        "vector_index = Neo4jVector.from_existing_graph(\n",
        "    OpenAIEmbeddings(model=\"text-embedding-ada-002\", openai_api_key=OPENAI_API_KEY),\n",
        "    graph=graph,\n",
        "    search_type=\"hybrid\",\n",
        "    node_label=\"Document\",\n",
        "    text_node_properties=[\"text\"],\n",
        "    embedding_node_property=\"embedding\"\n",
        ")\n"
      ],
      "metadata": {
        "id": "75oFaWG8uT-W"
      },
      "execution_count": 75,
      "outputs": []
    },
    {
      "cell_type": "code",
      "source": [
        "graph.query(\"CREATE FULLTEXT INDEX entity IF NOT EXISTS FOR (e:__Entity__) ON EACH [e.id]\")"
      ],
      "metadata": {
        "colab": {
          "base_uri": "https://localhost:8080/"
        },
        "id": "dwp3iSGK9Cbe",
        "outputId": "23d10359-9dd6-4632-954b-744af17563f6"
      },
      "execution_count": 85,
      "outputs": [
        {
          "output_type": "execute_result",
          "data": {
            "text/plain": [
              "[]"
            ]
          },
          "metadata": {},
          "execution_count": 85
        }
      ]
    },
    {
      "cell_type": "code",
      "source": [
        "from langchain_core.pydantic_v1 import BaseModel, Field\n",
        "# Extract entities from text\n",
        "class Entities(BaseModel):\n",
        "    \"\"\"Identifying information about entities.\"\"\"\n",
        "\n",
        "    names: List[str] = Field(\n",
        "        ...,\n",
        "        description=\"All the person, organization, or business entities that \"\n",
        "        \"appear in the text\",\n",
        "    )"
      ],
      "metadata": {
        "id": "1Z1czb4vvOWd"
      },
      "execution_count": 86,
      "outputs": []
    },
    {
      "cell_type": "code",
      "source": [
        "from langchain_core.prompts import ChatPromptTemplate\n",
        "from langchain_core.prompts.prompt import PromptTemplate\n",
        "\n",
        "prompt = ChatPromptTemplate.from_messages(\n",
        "    [\n",
        "        (\n",
        "            \"system\",\n",
        "            \"You are extracting organization and person entities from the text.\",\n",
        "        ),\n",
        "        (\n",
        "            \"human\",\n",
        "            \"Use the given format to extract information from the following \"\n",
        "            \"input: {question}\",\n",
        "        ),\n",
        "    ]\n",
        ")"
      ],
      "metadata": {
        "id": "cRgmUR8Mv2VC"
      },
      "execution_count": 87,
      "outputs": []
    },
    {
      "cell_type": "code",
      "source": [
        "entity_chain = prompt | llm.with_structured_output(Entities)\n"
      ],
      "metadata": {
        "id": "WqLNSW_dwX1f"
      },
      "execution_count": 88,
      "outputs": []
    },
    {
      "cell_type": "code",
      "source": [
        "entity_chain.invoke({\"question\": \"Where was Amelia Earhart born?\"}).names"
      ],
      "metadata": {
        "colab": {
          "base_uri": "https://localhost:8080/"
        },
        "id": "bJwkX1dNwj8w",
        "outputId": "17497bf7-82f5-4626-cfa2-4357da262205"
      },
      "execution_count": 89,
      "outputs": [
        {
          "output_type": "execute_result",
          "data": {
            "text/plain": [
              "['Amelia Earhart']"
            ]
          },
          "metadata": {},
          "execution_count": 89
        }
      ]
    },
    {
      "cell_type": "code",
      "source": [
        "from langchain_community.vectorstores.neo4j_vector import remove_lucene_chars"
      ],
      "metadata": {
        "id": "KrFZQW9WxMdx"
      },
      "execution_count": 90,
      "outputs": []
    },
    {
      "cell_type": "code",
      "source": [
        "\n",
        "def generate_full_text_query(input: str) -> str:\n",
        "    full_text_query = \"\"\n",
        "    words = [el for el in remove_lucene_chars(input).split() if el]\n",
        "    for word in words[:-1]:\n",
        "        full_text_query += f\" {word}~2 AND\"\n",
        "    full_text_query += f\" {words[-1]}~2\"\n",
        "    return full_text_query.strip()"
      ],
      "metadata": {
        "id": "UYK6ps7lxZdb"
      },
      "execution_count": 91,
      "outputs": []
    },
    {
      "cell_type": "code",
      "source": [
        "def structured_retriever(question: str) -> str:\n",
        "    result = \"\"\n",
        "    entities = entity_chain.invoke({\"question\": question})\n",
        "    for entity in entities.names:\n",
        "        response = graph.query(\n",
        "            \"\"\"CALL db.index.fulltext.queryNodes('entity', $query, {limit:2})\n",
        "            YIELD node,score\n",
        "            CALL {\n",
        "              WITH node\n",
        "              MATCH (node)-[r:!MENTIONS]->(neighbor)\n",
        "              RETURN node.id + ' - ' + type(r) + ' -> ' + neighbor.id AS output\n",
        "              UNION ALL\n",
        "              WITH node\n",
        "              MATCH (node)<-[r:!MENTIONS]-(neighbor)\n",
        "              RETURN neighbor.id + ' - ' + type(r) + ' -> ' +  node.id AS output\n",
        "            }\n",
        "            RETURN output LIMIT 50\n",
        "            \"\"\",\n",
        "            {\"query\": generate_full_text_query(entity)},\n",
        "        )\n",
        "        result += \"\\n\".join([el['output'] for el in response])\n",
        "    return result"
      ],
      "metadata": {
        "id": "BZN156uq1W6B"
      },
      "execution_count": 92,
      "outputs": []
    },
    {
      "cell_type": "code",
      "source": [
        "print(structured_retriever(\"Who is Elizabeth I?\"))"
      ],
      "metadata": {
        "colab": {
          "base_uri": "https://localhost:8080/"
        },
        "id": "ofFvE82w3JIA",
        "outputId": "16abc852-c7a9-4986-f80d-6d68e74c32f8"
      },
      "execution_count": 93,
      "outputs": [
        {
          "output_type": "stream",
          "name": "stderr",
          "text": [
            "WARNING:neo4j.notifications:Received notification from DBMS server: {severity: WARNING} {code: Neo.ClientNotification.Statement.FeatureDeprecationWarning} {category: DEPRECATION} {title: This feature is deprecated and will be removed in future versions.} {description: CALL subquery without a variable scope clause is now deprecated. Use CALL (node, node) { ... }} {position: line: 3, column: 13, offset: 104} for query: \"CALL db.index.fulltext.queryNodes('entity', $query, {limit:2})\\n            YIELD node,score\\n            CALL {\\n              WITH node\\n              MATCH (node)-[r:!MENTIONS]->(neighbor)\\n              RETURN node.id + ' - ' + type(r) + ' -> ' + neighbor.id AS output\\n              UNION ALL\\n              WITH node\\n              MATCH (node)<-[r:!MENTIONS]-(neighbor)\\n              RETURN neighbor.id + ' - ' + type(r) + ' -> ' +  node.id AS output\\n            }\\n            RETURN output LIMIT 50\\n            \"\n"
          ]
        },
        {
          "output_type": "stream",
          "name": "stdout",
          "text": [
            "Elizabeth I - QUEEN_OF -> England\n",
            "Elizabeth I - QUEEN_OF -> Ireland\n",
            "Elizabeth I - MEMBER_OF -> House Of Tudor\n",
            "Elizabeth I - CHILD_OF -> Henry Viii\n",
            "Elizabeth I - CHILD_OF -> Anne Boleyn\n",
            "Elizabeth I - RESTORED_BY -> Third Succession Act 1543\n",
            "Elizabeth I - ADVISED_BY -> William Cecil\n",
            "Elizabeth I - SUPREME_GOVERNOR_OF -> Church Of England\n",
            "Elizabeth I - SUCCEEDED_BY -> James Vi Of Scotland\n",
            "Elizabeth I - AIDED_BY -> Sir Francis Walsingham\n",
            "Elizabeth I - INITIATED -> Elizabethan Religious Settlement\n",
            "Edward Vi - HALF_SIBLING_OF -> Elizabeth I\n",
            "Mary - HALF_SIBLING_OF -> Elizabeth I\n",
            "Queen Elizabeth I - SPANS -> Early Modern Period\n",
            "Queen Elizabeth I - SUBJECT -> English Royal Portraits\n",
            "Henry Viii - PARENT -> Queen Elizabeth I\n",
            "Virgin Queen - ALIAS -> Queen Elizabeth I\n",
            "Roses - SYMBOLIC_OBJECT -> Queen Elizabeth I\n",
            "Prayer Books - SYMBOLIC_OBJECT -> Queen Elizabeth I\n",
            "Globes - SYMBOLIC_OBJECT -> Queen Elizabeth I\n",
            "Crowns - SYMBOLIC_OBJECT -> Queen Elizabeth I\n",
            "Swords - SYMBOLIC_OBJECT -> Queen Elizabeth I\n",
            "Columns - SYMBOLIC_OBJECT -> Queen Elizabeth I\n",
            "Moons - SYMBOLIC_OBJECT -> Queen Elizabeth I\n",
            "Pearls - SYMBOLIC_OBJECT -> Queen Elizabeth I\n",
            "Nicholas Hilliard - PORTRAIT_ARTIST -> Queen Elizabeth I\n",
            "George Gower - PORTRAIT_ARTIST -> Queen Elizabeth I\n",
            "Cornelis Ketel - PORTRAIT_ARTIST -> Queen Elizabeth I\n",
            "Federico Zuccaro - PORTRAIT_ARTIST -> Queen Elizabeth I\n",
            "Isaac Oliver - PORTRAIT_ARTIST -> Queen Elizabeth I\n",
            "Marcus Gheeraerts The Younger - PORTRAIT_ARTIST -> Queen Elizabeth I\n"
          ]
        }
      ]
    },
    {
      "cell_type": "code",
      "source": [
        "def retriever(question: str):\n",
        "    print(f\"Search query: {question}\")\n",
        "    structured_data = structured_retriever(question)\n",
        "    unstructured_data = [el.page_content for el in vector_index.similarity_search(question)]\n",
        "    final_data = f\"\"\"Structured data:\n",
        "{structured_data}\n",
        "Unstructured data:\n",
        "{\"#Document \". join(unstructured_data)}\n",
        "    \"\"\"\n",
        "    return final_data"
      ],
      "metadata": {
        "id": "uMnlMDxA9WjC"
      },
      "execution_count": 95,
      "outputs": []
    },
    {
      "cell_type": "code",
      "source": [
        "_template = \"\"\"Given the following conversation and a follow up question, rephrase the follow up question to be a standalone question,\n",
        "in its original language.\n",
        "Chat History:\n",
        "{chat_history}\n",
        "Follow Up Input: {question}\n",
        "Standalone question:\"\"\""
      ],
      "metadata": {
        "id": "eauJHuyO9hJp"
      },
      "execution_count": 96,
      "outputs": []
    },
    {
      "cell_type": "code",
      "source": [
        "CONDENSE_QUESTION_PROMPT = PromptTemplate.from_template(_template)\n"
      ],
      "metadata": {
        "id": "mwEWBJhx9jOe"
      },
      "execution_count": 97,
      "outputs": []
    },
    {
      "cell_type": "code",
      "source": [
        "from langchain_core.messages import AIMessage, HumanMessage\n",
        "from langchain_core.output_parsers import StrOutputParser\n",
        "\n",
        "def _format_chat_history(chat_history: List[Tuple[str, str]]) -> List:\n",
        "    buffer = []\n",
        "    for human, ai in chat_history:\n",
        "        buffer.append(HumanMessage(content=human))\n",
        "        buffer.append(AIMessage(content=ai))\n",
        "    return buffer"
      ],
      "metadata": {
        "id": "m9Xbh8ZP9lqn"
      },
      "execution_count": 98,
      "outputs": []
    },
    {
      "cell_type": "code",
      "source": [
        "from langchain_core.runnables import ConfigurableField"
      ],
      "metadata": {
        "id": "OByRzhX7-JxR"
      },
      "execution_count": 99,
      "outputs": []
    },
    {
      "cell_type": "code",
      "source": [
        "from langchain_core.runnables import (\n",
        "    RunnableBranch,\n",
        "    RunnableLambda,\n",
        "    RunnableParallel,\n",
        "    RunnablePassthrough,\n",
        ")"
      ],
      "metadata": {
        "id": "lNlXJRE--PpA"
      },
      "execution_count": 100,
      "outputs": []
    },
    {
      "cell_type": "code",
      "source": [
        "_search_query = RunnableBranch(\n",
        "    # If input includes chat_history, we condense it with the follow-up question\n",
        "    (\n",
        "        RunnableLambda(lambda x: bool(x.get(\"chat_history\"))).with_config(\n",
        "            run_name=\"HasChatHistoryCheck\"\n",
        "        ),  # Condense follow-up question and chat into a standalone_question\n",
        "        RunnablePassthrough.assign(\n",
        "            chat_history=lambda x: _format_chat_history(x[\"chat_history\"])\n",
        "        )\n",
        "        | CONDENSE_QUESTION_PROMPT\n",
        "        | ChatOpenAI(temperature=0, api_key=OPENAI_API_KEY)\n",
        "        | StrOutputParser(),\n",
        "    ),\n",
        "    # Else, we have no chat history, so just pass through the question\n",
        "    RunnableLambda(lambda x : x[\"question\"]),\n",
        ")"
      ],
      "metadata": {
        "id": "kdu9gADF9oz5"
      },
      "execution_count": 102,
      "outputs": []
    },
    {
      "cell_type": "code",
      "source": [
        "template = \"\"\"Answer the question based only on the following context:\n",
        "{context}\n",
        "\n",
        "Question: {question}\n",
        "Use natural language and be concise.\n",
        "Answer:\"\"\"\n",
        ""
      ],
      "metadata": {
        "id": "3aYiXXTL9tJd"
      },
      "execution_count": 103,
      "outputs": []
    },
    {
      "cell_type": "code",
      "source": [
        "prompt = ChatPromptTemplate.from_template(template)\n"
      ],
      "metadata": {
        "id": "nnbUxlQi9uvj"
      },
      "execution_count": 104,
      "outputs": []
    },
    {
      "cell_type": "code",
      "source": [
        "chain = (\n",
        "    RunnableParallel(\n",
        "        {\n",
        "            \"context\": _search_query | retriever,\n",
        "            \"question\": RunnablePassthrough(),\n",
        "        }\n",
        "    )\n",
        "    | prompt\n",
        "    | llm\n",
        "    | StrOutputParser()\n",
        ")"
      ],
      "metadata": {
        "id": "jqaKOB0M9xU3"
      },
      "execution_count": 105,
      "outputs": []
    },
    {
      "cell_type": "code",
      "source": [
        "chain.invoke({\"question\": \"Which house did Elizabeth I belong to?\"})\n"
      ],
      "metadata": {
        "colab": {
          "base_uri": "https://localhost:8080/",
          "height": 107
        },
        "id": "addBG8Lt9y8Q",
        "outputId": "98295fe1-5ad8-47b5-caa4-02f0d6a7d8a8"
      },
      "execution_count": 106,
      "outputs": [
        {
          "output_type": "stream",
          "name": "stdout",
          "text": [
            "Search query: Which house did Elizabeth I belong to?\n"
          ]
        },
        {
          "output_type": "stream",
          "name": "stderr",
          "text": [
            "WARNING:neo4j.notifications:Received notification from DBMS server: {severity: WARNING} {code: Neo.ClientNotification.Statement.FeatureDeprecationWarning} {category: DEPRECATION} {title: This feature is deprecated and will be removed in future versions.} {description: CALL subquery without a variable scope clause is now deprecated. Use CALL (node, node) { ... }} {position: line: 3, column: 13, offset: 104} for query: \"CALL db.index.fulltext.queryNodes('entity', $query, {limit:2})\\n            YIELD node,score\\n            CALL {\\n              WITH node\\n              MATCH (node)-[r:!MENTIONS]->(neighbor)\\n              RETURN node.id + ' - ' + type(r) + ' -> ' + neighbor.id AS output\\n              UNION ALL\\n              WITH node\\n              MATCH (node)<-[r:!MENTIONS]-(neighbor)\\n              RETURN neighbor.id + ' - ' + type(r) + ' -> ' +  node.id AS output\\n            }\\n            RETURN output LIMIT 50\\n            \"\n",
            "WARNING:neo4j.notifications:Received notification from DBMS server: {severity: WARNING} {code: Neo.ClientNotification.Statement.FeatureDeprecationWarning} {category: DEPRECATION} {title: This feature is deprecated and will be removed in future versions.} {description: CALL subquery without a variable scope clause is now deprecated. Use CALL () { ... }} {position: line: 1, column: 1, offset: 0} for query: \"CALL { CALL db.index.vector.queryNodes($index, $k, $embedding) YIELD node, score WITH collect({node:node, score:score}) AS nodes, max(score) AS max UNWIND nodes AS n RETURN n.node AS node, (n.score / max) AS score UNION CALL db.index.fulltext.queryNodes($keyword_index, $query, {limit: $k}) YIELD node, score WITH collect({node:node, score:score}) AS nodes, max(score) AS max UNWIND nodes AS n RETURN n.node AS node, (n.score / max) AS score } WITH node, max(score) AS score ORDER BY score DESC LIMIT $k RETURN reduce(str='', k IN ['text'] | str + '\\\\n' + k + ': ' + coalesce(node[k], '')) AS text, node {.*, `embedding`: Null, id: Null, `text`: Null} AS metadata, score\"\n"
          ]
        },
        {
          "output_type": "execute_result",
          "data": {
            "text/plain": [
              "'Elizabeth I belonged to the House of Tudor.'"
            ],
            "application/vnd.google.colaboratory.intrinsic+json": {
              "type": "string"
            }
          },
          "metadata": {},
          "execution_count": 106
        }
      ]
    },
    {
      "cell_type": "code",
      "source": [
        "chain.invoke(\n",
        "    {\n",
        "        \"question\": \"When was she born?\",\n",
        "        \"chat_history\": [(\"Which house did Elizabeth I belong to?\", \"House Of Tudor\")],\n",
        "    }\n",
        ")"
      ],
      "metadata": {
        "colab": {
          "base_uri": "https://localhost:8080/",
          "height": 107
        },
        "id": "xLcwZFfy918M",
        "outputId": "12500e75-0988-4de5-ebc9-ee97510ae687"
      },
      "execution_count": 107,
      "outputs": [
        {
          "output_type": "stream",
          "name": "stdout",
          "text": [
            "Search query: When was Elizabeth I born?\n"
          ]
        },
        {
          "output_type": "stream",
          "name": "stderr",
          "text": [
            "WARNING:neo4j.notifications:Received notification from DBMS server: {severity: WARNING} {code: Neo.ClientNotification.Statement.FeatureDeprecationWarning} {category: DEPRECATION} {title: This feature is deprecated and will be removed in future versions.} {description: CALL subquery without a variable scope clause is now deprecated. Use CALL (node, node) { ... }} {position: line: 3, column: 13, offset: 104} for query: \"CALL db.index.fulltext.queryNodes('entity', $query, {limit:2})\\n            YIELD node,score\\n            CALL {\\n              WITH node\\n              MATCH (node)-[r:!MENTIONS]->(neighbor)\\n              RETURN node.id + ' - ' + type(r) + ' -> ' + neighbor.id AS output\\n              UNION ALL\\n              WITH node\\n              MATCH (node)<-[r:!MENTIONS]-(neighbor)\\n              RETURN neighbor.id + ' - ' + type(r) + ' -> ' +  node.id AS output\\n            }\\n            RETURN output LIMIT 50\\n            \"\n",
            "WARNING:neo4j.notifications:Received notification from DBMS server: {severity: WARNING} {code: Neo.ClientNotification.Statement.FeatureDeprecationWarning} {category: DEPRECATION} {title: This feature is deprecated and will be removed in future versions.} {description: CALL subquery without a variable scope clause is now deprecated. Use CALL () { ... }} {position: line: 1, column: 1, offset: 0} for query: \"CALL { CALL db.index.vector.queryNodes($index, $k, $embedding) YIELD node, score WITH collect({node:node, score:score}) AS nodes, max(score) AS max UNWIND nodes AS n RETURN n.node AS node, (n.score / max) AS score UNION CALL db.index.fulltext.queryNodes($keyword_index, $query, {limit: $k}) YIELD node, score WITH collect({node:node, score:score}) AS nodes, max(score) AS max UNWIND nodes AS n RETURN n.node AS node, (n.score / max) AS score } WITH node, max(score) AS score ORDER BY score DESC LIMIT $k RETURN reduce(str='', k IN ['text'] | str + '\\\\n' + k + ': ' + coalesce(node[k], '')) AS text, node {.*, `embedding`: Null, id: Null, `text`: Null} AS metadata, score\"\n"
          ]
        },
        {
          "output_type": "execute_result",
          "data": {
            "text/plain": [
              "'Elizabeth I was born on 7 September 1533.'"
            ],
            "application/vnd.google.colaboratory.intrinsic+json": {
              "type": "string"
            }
          },
          "metadata": {},
          "execution_count": 107
        }
      ]
    }
  ]
}